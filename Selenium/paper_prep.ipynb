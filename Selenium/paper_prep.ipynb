{
 "cells": [
  {
   "cell_type": "code",
   "execution_count": 1,
   "metadata": {},
   "outputs": [],
   "source": [
    "import pandas as pd"
   ]
  },
  {
   "cell_type": "code",
   "execution_count": 54,
   "metadata": {},
   "outputs": [],
   "source": [
    "all = pd.read_excel('Data/Analysis of Turizm Journals.xlsx', sheet_name=None, usecols=\"A:D\", header=1 )"
   ]
  },
  {
   "cell_type": "code",
   "execution_count": 55,
   "metadata": {},
   "outputs": [
    {
     "data": {
      "text/plain": [
       "dict_keys(['General Information', 'IJCHM', 'IJHM', 'CHQ', 'JHTR', 'JHMM'])"
      ]
     },
     "execution_count": 55,
     "metadata": {},
     "output_type": "execute_result"
    }
   ],
   "source": [
    "all.keys()"
   ]
  },
  {
   "cell_type": "code",
   "execution_count": 56,
   "metadata": {},
   "outputs": [],
   "source": [
    "del all[\"General Information\"]"
   ]
  },
  {
   "cell_type": "code",
   "execution_count": 57,
   "metadata": {},
   "outputs": [],
   "source": [
    "df = pd.concat(all)"
   ]
  },
  {
   "cell_type": "code",
   "execution_count": 58,
   "metadata": {},
   "outputs": [
    {
     "data": {
      "text/html": [
       "<div>\n",
       "<style scoped>\n",
       "    .dataframe tbody tr th:only-of-type {\n",
       "        vertical-align: middle;\n",
       "    }\n",
       "\n",
       "    .dataframe tbody tr th {\n",
       "        vertical-align: top;\n",
       "    }\n",
       "\n",
       "    .dataframe thead th {\n",
       "        text-align: right;\n",
       "    }\n",
       "</style>\n",
       "<table border=\"1\" class=\"dataframe\">\n",
       "  <thead>\n",
       "    <tr style=\"text-align: right;\">\n",
       "      <th></th>\n",
       "      <th></th>\n",
       "      <th>AU</th>\n",
       "      <th>TI</th>\n",
       "      <th>PY</th>\n",
       "      <th>DI</th>\n",
       "    </tr>\n",
       "  </thead>\n",
       "  <tbody>\n",
       "    <tr>\n",
       "      <th rowspan=\"5\" valign=\"top\">IJCHM</th>\n",
       "      <th>0</th>\n",
       "      <td>Ineson, EM; Comic, D; Kalmic, L</td>\n",
       "      <td>Towards a hierarchy of hotel guests' in-room n...</td>\n",
       "      <td>2019.0</td>\n",
       "      <td>10.1108/IJCHM-01-2019-0061</td>\n",
       "    </tr>\n",
       "    <tr>\n",
       "      <th>1</th>\n",
       "      <td>Benitez-Aurioles, B</td>\n",
       "      <td>Barcelona's peer-to-peer tourist accommodation...</td>\n",
       "      <td>2019.0</td>\n",
       "      <td>10.1108/IJCHM-01-2019-0090</td>\n",
       "    </tr>\n",
       "    <tr>\n",
       "      <th>2</th>\n",
       "      <td>Hu, XB; Yang, Y; Park, S</td>\n",
       "      <td>A meta-regression on the effect of online rati...</td>\n",
       "      <td>2019.0</td>\n",
       "      <td>10.1108/IJCHM-10-2018-0835</td>\n",
       "    </tr>\n",
       "    <tr>\n",
       "      <th>3</th>\n",
       "      <td>Ahmat, NHC; Arendt, SW; Russell, DW</td>\n",
       "      <td>Examining work factors after Malaysia's minimu...</td>\n",
       "      <td>2019.0</td>\n",
       "      <td>10.1108/IJCHM-10-2018-0827</td>\n",
       "    </tr>\n",
       "    <tr>\n",
       "      <th>4</th>\n",
       "      <td>Kim, EL; Tanford, S</td>\n",
       "      <td>Seeking reward or avoiding risk from restauran...</td>\n",
       "      <td>2019.0</td>\n",
       "      <td>10.1108/IJCHM-03-2018-0235</td>\n",
       "    </tr>\n",
       "    <tr>\n",
       "      <th>...</th>\n",
       "      <th>...</th>\n",
       "      <td>...</td>\n",
       "      <td>...</td>\n",
       "      <td>...</td>\n",
       "      <td>...</td>\n",
       "    </tr>\n",
       "    <tr>\n",
       "      <th rowspan=\"5\" valign=\"top\">JHMM</th>\n",
       "      <th>224</th>\n",
       "      <td>de Leaniz, PMG; Rodriguez, IRD</td>\n",
       "      <td>Exploring the Antecedents of Hotel Customer Lo...</td>\n",
       "      <td>2015.0</td>\n",
       "      <td>10.1080/19368623.2014.891961</td>\n",
       "    </tr>\n",
       "    <tr>\n",
       "      <th>225</th>\n",
       "      <td>Prayag, G; Khoo-Lattimore, C; Sitruk, J</td>\n",
       "      <td>Casual Dining on the French Riviera: Examining...</td>\n",
       "      <td>2015.0</td>\n",
       "      <td>10.1080/19368623.2014.859114</td>\n",
       "    </tr>\n",
       "    <tr>\n",
       "      <th>226</th>\n",
       "      <td>Morosan, C</td>\n",
       "      <td>The Influence of DMO Advertising on Specific D...</td>\n",
       "      <td>2015.0</td>\n",
       "      <td>10.1080/19368623.2014.891962</td>\n",
       "    </tr>\n",
       "    <tr>\n",
       "      <th>227</th>\n",
       "      <td>Memarzadeh, F; Chang, HJ</td>\n",
       "      <td>Online Consumer Complaints About Southeast Asi...</td>\n",
       "      <td>2015.0</td>\n",
       "      <td>10.1080/19368623.2014.893222</td>\n",
       "    </tr>\n",
       "    <tr>\n",
       "      <th>228</th>\n",
       "      <td>Cao, Y; Kim, K</td>\n",
       "      <td>How Do Customers Perceive Service Quality in D...</td>\n",
       "      <td>2015.0</td>\n",
       "      <td>10.1080/19368623.2014.903817</td>\n",
       "    </tr>\n",
       "  </tbody>\n",
       "</table>\n",
       "<p>3269 rows × 4 columns</p>\n",
       "</div>"
      ],
      "text/plain": [
       "                                                AU  \\\n",
       "IJCHM 0            Ineson, EM; Comic, D; Kalmic, L   \n",
       "      1                        Benitez-Aurioles, B   \n",
       "      2                   Hu, XB; Yang, Y; Park, S   \n",
       "      3        Ahmat, NHC; Arendt, SW; Russell, DW   \n",
       "      4                        Kim, EL; Tanford, S   \n",
       "...                                            ...   \n",
       "JHMM  224           de Leaniz, PMG; Rodriguez, IRD   \n",
       "      225  Prayag, G; Khoo-Lattimore, C; Sitruk, J   \n",
       "      226                               Morosan, C   \n",
       "      227                 Memarzadeh, F; Chang, HJ   \n",
       "      228                           Cao, Y; Kim, K   \n",
       "\n",
       "                                                          TI      PY  \\\n",
       "IJCHM 0    Towards a hierarchy of hotel guests' in-room n...  2019.0   \n",
       "      1    Barcelona's peer-to-peer tourist accommodation...  2019.0   \n",
       "      2    A meta-regression on the effect of online rati...  2019.0   \n",
       "      3    Examining work factors after Malaysia's minimu...  2019.0   \n",
       "      4    Seeking reward or avoiding risk from restauran...  2019.0   \n",
       "...                                                      ...     ...   \n",
       "JHMM  224  Exploring the Antecedents of Hotel Customer Lo...  2015.0   \n",
       "      225  Casual Dining on the French Riviera: Examining...  2015.0   \n",
       "      226  The Influence of DMO Advertising on Specific D...  2015.0   \n",
       "      227  Online Consumer Complaints About Southeast Asi...  2015.0   \n",
       "      228  How Do Customers Perceive Service Quality in D...  2015.0   \n",
       "\n",
       "                                     DI  \n",
       "IJCHM 0      10.1108/IJCHM-01-2019-0061  \n",
       "      1      10.1108/IJCHM-01-2019-0090  \n",
       "      2      10.1108/IJCHM-10-2018-0835  \n",
       "      3      10.1108/IJCHM-10-2018-0827  \n",
       "      4      10.1108/IJCHM-03-2018-0235  \n",
       "...                                 ...  \n",
       "JHMM  224  10.1080/19368623.2014.891961  \n",
       "      225  10.1080/19368623.2014.859114  \n",
       "      226  10.1080/19368623.2014.891962  \n",
       "      227  10.1080/19368623.2014.893222  \n",
       "      228  10.1080/19368623.2014.903817  \n",
       "\n",
       "[3269 rows x 4 columns]"
      ]
     },
     "execution_count": 58,
     "metadata": {},
     "output_type": "execute_result"
    }
   ],
   "source": [
    "df"
   ]
  },
  {
   "cell_type": "code",
   "execution_count": 59,
   "metadata": {},
   "outputs": [
    {
     "data": {
      "text/plain": [
       "AU     0\n",
       "TI     0\n",
       "PY    19\n",
       "DI     1\n",
       "dtype: int64"
      ]
     },
     "execution_count": 59,
     "metadata": {},
     "output_type": "execute_result"
    }
   ],
   "source": [
    "df.isnull().sum()"
   ]
  },
  {
   "cell_type": "code",
   "execution_count": 60,
   "metadata": {},
   "outputs": [
    {
     "data": {
      "text/html": [
       "<div>\n",
       "<style scoped>\n",
       "    .dataframe tbody tr th:only-of-type {\n",
       "        vertical-align: middle;\n",
       "    }\n",
       "\n",
       "    .dataframe tbody tr th {\n",
       "        vertical-align: top;\n",
       "    }\n",
       "\n",
       "    .dataframe thead th {\n",
       "        text-align: right;\n",
       "    }\n",
       "</style>\n",
       "<table border=\"1\" class=\"dataframe\">\n",
       "  <thead>\n",
       "    <tr style=\"text-align: right;\">\n",
       "      <th></th>\n",
       "      <th>AU</th>\n",
       "      <th>TI</th>\n",
       "      <th>PY</th>\n",
       "      <th>DI</th>\n",
       "    </tr>\n",
       "    <tr>\n",
       "      <th>level_0</th>\n",
       "      <th></th>\n",
       "      <th></th>\n",
       "      <th></th>\n",
       "      <th></th>\n",
       "    </tr>\n",
       "  </thead>\n",
       "  <tbody>\n",
       "    <tr>\n",
       "      <th>CHQ</th>\n",
       "      <td>356</td>\n",
       "      <td>356</td>\n",
       "      <td>353</td>\n",
       "      <td>356</td>\n",
       "    </tr>\n",
       "    <tr>\n",
       "      <th>IJCHM</th>\n",
       "      <td>1008</td>\n",
       "      <td>1008</td>\n",
       "      <td>1008</td>\n",
       "      <td>1007</td>\n",
       "    </tr>\n",
       "    <tr>\n",
       "      <th>IJHM</th>\n",
       "      <td>1340</td>\n",
       "      <td>1340</td>\n",
       "      <td>1340</td>\n",
       "      <td>1340</td>\n",
       "    </tr>\n",
       "    <tr>\n",
       "      <th>JHMM</th>\n",
       "      <td>229</td>\n",
       "      <td>229</td>\n",
       "      <td>217</td>\n",
       "      <td>229</td>\n",
       "    </tr>\n",
       "    <tr>\n",
       "      <th>JHTR</th>\n",
       "      <td>336</td>\n",
       "      <td>336</td>\n",
       "      <td>332</td>\n",
       "      <td>336</td>\n",
       "    </tr>\n",
       "  </tbody>\n",
       "</table>\n",
       "</div>"
      ],
      "text/plain": [
       "           AU    TI    PY    DI\n",
       "level_0                        \n",
       "CHQ       356   356   353   356\n",
       "IJCHM    1008  1008  1008  1007\n",
       "IJHM     1340  1340  1340  1340\n",
       "JHMM      229   229   217   229\n",
       "JHTR      336   336   332   336"
      ]
     },
     "execution_count": 60,
     "metadata": {},
     "output_type": "execute_result"
    }
   ],
   "source": [
    "df.reset_index(level=0).groupby(\"level_0\").count()"
   ]
  },
  {
   "cell_type": "code",
   "execution_count": 61,
   "metadata": {},
   "outputs": [],
   "source": [
    "df = df.reset_index(level=0)"
   ]
  },
  {
   "cell_type": "code",
   "execution_count": 62,
   "metadata": {},
   "outputs": [],
   "source": [
    "df.rename(columns={'level_0': 'JO'}, inplace=True)"
   ]
  },
  {
   "cell_type": "code",
   "execution_count": 63,
   "metadata": {},
   "outputs": [],
   "source": [
    "df.reset_index(drop=True, inplace=True)"
   ]
  },
  {
   "cell_type": "code",
   "execution_count": 64,
   "metadata": {},
   "outputs": [
    {
     "data": {
      "text/html": [
       "<div>\n",
       "<style scoped>\n",
       "    .dataframe tbody tr th:only-of-type {\n",
       "        vertical-align: middle;\n",
       "    }\n",
       "\n",
       "    .dataframe tbody tr th {\n",
       "        vertical-align: top;\n",
       "    }\n",
       "\n",
       "    .dataframe thead th {\n",
       "        text-align: right;\n",
       "    }\n",
       "</style>\n",
       "<table border=\"1\" class=\"dataframe\">\n",
       "  <thead>\n",
       "    <tr style=\"text-align: right;\">\n",
       "      <th></th>\n",
       "      <th>JO</th>\n",
       "      <th>AU</th>\n",
       "      <th>TI</th>\n",
       "      <th>PY</th>\n",
       "      <th>DI</th>\n",
       "    </tr>\n",
       "  </thead>\n",
       "  <tbody>\n",
       "    <tr>\n",
       "      <th>0</th>\n",
       "      <td>IJCHM</td>\n",
       "      <td>Ineson, EM; Comic, D; Kalmic, L</td>\n",
       "      <td>Towards a hierarchy of hotel guests' in-room n...</td>\n",
       "      <td>2019.0</td>\n",
       "      <td>10.1108/IJCHM-01-2019-0061</td>\n",
       "    </tr>\n",
       "    <tr>\n",
       "      <th>1</th>\n",
       "      <td>IJCHM</td>\n",
       "      <td>Benitez-Aurioles, B</td>\n",
       "      <td>Barcelona's peer-to-peer tourist accommodation...</td>\n",
       "      <td>2019.0</td>\n",
       "      <td>10.1108/IJCHM-01-2019-0090</td>\n",
       "    </tr>\n",
       "    <tr>\n",
       "      <th>2</th>\n",
       "      <td>IJCHM</td>\n",
       "      <td>Hu, XB; Yang, Y; Park, S</td>\n",
       "      <td>A meta-regression on the effect of online rati...</td>\n",
       "      <td>2019.0</td>\n",
       "      <td>10.1108/IJCHM-10-2018-0835</td>\n",
       "    </tr>\n",
       "    <tr>\n",
       "      <th>3</th>\n",
       "      <td>IJCHM</td>\n",
       "      <td>Ahmat, NHC; Arendt, SW; Russell, DW</td>\n",
       "      <td>Examining work factors after Malaysia's minimu...</td>\n",
       "      <td>2019.0</td>\n",
       "      <td>10.1108/IJCHM-10-2018-0827</td>\n",
       "    </tr>\n",
       "    <tr>\n",
       "      <th>4</th>\n",
       "      <td>IJCHM</td>\n",
       "      <td>Kim, EL; Tanford, S</td>\n",
       "      <td>Seeking reward or avoiding risk from restauran...</td>\n",
       "      <td>2019.0</td>\n",
       "      <td>10.1108/IJCHM-03-2018-0235</td>\n",
       "    </tr>\n",
       "    <tr>\n",
       "      <th>...</th>\n",
       "      <td>...</td>\n",
       "      <td>...</td>\n",
       "      <td>...</td>\n",
       "      <td>...</td>\n",
       "      <td>...</td>\n",
       "    </tr>\n",
       "    <tr>\n",
       "      <th>3264</th>\n",
       "      <td>JHMM</td>\n",
       "      <td>de Leaniz, PMG; Rodriguez, IRD</td>\n",
       "      <td>Exploring the Antecedents of Hotel Customer Lo...</td>\n",
       "      <td>2015.0</td>\n",
       "      <td>10.1080/19368623.2014.891961</td>\n",
       "    </tr>\n",
       "    <tr>\n",
       "      <th>3265</th>\n",
       "      <td>JHMM</td>\n",
       "      <td>Prayag, G; Khoo-Lattimore, C; Sitruk, J</td>\n",
       "      <td>Casual Dining on the French Riviera: Examining...</td>\n",
       "      <td>2015.0</td>\n",
       "      <td>10.1080/19368623.2014.859114</td>\n",
       "    </tr>\n",
       "    <tr>\n",
       "      <th>3266</th>\n",
       "      <td>JHMM</td>\n",
       "      <td>Morosan, C</td>\n",
       "      <td>The Influence of DMO Advertising on Specific D...</td>\n",
       "      <td>2015.0</td>\n",
       "      <td>10.1080/19368623.2014.891962</td>\n",
       "    </tr>\n",
       "    <tr>\n",
       "      <th>3267</th>\n",
       "      <td>JHMM</td>\n",
       "      <td>Memarzadeh, F; Chang, HJ</td>\n",
       "      <td>Online Consumer Complaints About Southeast Asi...</td>\n",
       "      <td>2015.0</td>\n",
       "      <td>10.1080/19368623.2014.893222</td>\n",
       "    </tr>\n",
       "    <tr>\n",
       "      <th>3268</th>\n",
       "      <td>JHMM</td>\n",
       "      <td>Cao, Y; Kim, K</td>\n",
       "      <td>How Do Customers Perceive Service Quality in D...</td>\n",
       "      <td>2015.0</td>\n",
       "      <td>10.1080/19368623.2014.903817</td>\n",
       "    </tr>\n",
       "  </tbody>\n",
       "</table>\n",
       "<p>3269 rows × 5 columns</p>\n",
       "</div>"
      ],
      "text/plain": [
       "         JO                                       AU  \\\n",
       "0     IJCHM          Ineson, EM; Comic, D; Kalmic, L   \n",
       "1     IJCHM                      Benitez-Aurioles, B   \n",
       "2     IJCHM                 Hu, XB; Yang, Y; Park, S   \n",
       "3     IJCHM      Ahmat, NHC; Arendt, SW; Russell, DW   \n",
       "4     IJCHM                      Kim, EL; Tanford, S   \n",
       "...     ...                                      ...   \n",
       "3264   JHMM           de Leaniz, PMG; Rodriguez, IRD   \n",
       "3265   JHMM  Prayag, G; Khoo-Lattimore, C; Sitruk, J   \n",
       "3266   JHMM                               Morosan, C   \n",
       "3267   JHMM                 Memarzadeh, F; Chang, HJ   \n",
       "3268   JHMM                           Cao, Y; Kim, K   \n",
       "\n",
       "                                                     TI      PY  \\\n",
       "0     Towards a hierarchy of hotel guests' in-room n...  2019.0   \n",
       "1     Barcelona's peer-to-peer tourist accommodation...  2019.0   \n",
       "2     A meta-regression on the effect of online rati...  2019.0   \n",
       "3     Examining work factors after Malaysia's minimu...  2019.0   \n",
       "4     Seeking reward or avoiding risk from restauran...  2019.0   \n",
       "...                                                 ...     ...   \n",
       "3264  Exploring the Antecedents of Hotel Customer Lo...  2015.0   \n",
       "3265  Casual Dining on the French Riviera: Examining...  2015.0   \n",
       "3266  The Influence of DMO Advertising on Specific D...  2015.0   \n",
       "3267  Online Consumer Complaints About Southeast Asi...  2015.0   \n",
       "3268  How Do Customers Perceive Service Quality in D...  2015.0   \n",
       "\n",
       "                                DI  \n",
       "0       10.1108/IJCHM-01-2019-0061  \n",
       "1       10.1108/IJCHM-01-2019-0090  \n",
       "2       10.1108/IJCHM-10-2018-0835  \n",
       "3       10.1108/IJCHM-10-2018-0827  \n",
       "4       10.1108/IJCHM-03-2018-0235  \n",
       "...                            ...  \n",
       "3264  10.1080/19368623.2014.891961  \n",
       "3265  10.1080/19368623.2014.859114  \n",
       "3266  10.1080/19368623.2014.891962  \n",
       "3267  10.1080/19368623.2014.893222  \n",
       "3268  10.1080/19368623.2014.903817  \n",
       "\n",
       "[3269 rows x 5 columns]"
      ]
     },
     "execution_count": 64,
     "metadata": {},
     "output_type": "execute_result"
    }
   ],
   "source": [
    "df"
   ]
  },
  {
   "cell_type": "code",
   "execution_count": 70,
   "metadata": {},
   "outputs": [
    {
     "data": {
      "text/plain": [
       "JO                                                IJCHM\n",
       "AU                                  Benitez-Aurioles, B\n",
       "TI    Barcelona's peer-to-peer tourist accommodation...\n",
       "PY                                                 2019\n",
       "DI                           10.1108/IJCHM-01-2019-0090\n",
       "Name: 1, dtype: object"
      ]
     },
     "execution_count": 70,
     "metadata": {},
     "output_type": "execute_result"
    }
   ],
   "source": [
    "df.iloc[1]"
   ]
  },
  {
   "cell_type": "code",
   "execution_count": 71,
   "metadata": {},
   "outputs": [
    {
     "data": {
      "text/plain": [
       "'10.1108/IJCHM-01-2019-0090'"
      ]
     },
     "execution_count": 71,
     "metadata": {},
     "output_type": "execute_result"
    }
   ],
   "source": [
    "df.iloc[1].DI"
   ]
  },
  {
   "cell_type": "code",
   "execution_count": null,
   "metadata": {},
   "outputs": [],
   "source": []
  },
  {
   "cell_type": "code",
   "execution_count": 91,
   "metadata": {},
   "outputs": [],
   "source": [
    "ir_char = set()\n",
    "for i in range(len(df)):\n",
    "    item = re.findall(\"[^A-Za-z0-9 ]\", df.TI.iloc[i])\n",
    "    [ir_char.add(i) for i in item]"
   ]
  },
  {
   "cell_type": "code",
   "execution_count": 95,
   "metadata": {},
   "outputs": [
    {
     "data": {
      "text/plain": [
       "['\"', ';', '/', ':', '-', \"'\", '&', '(', '!', ',', '?', '.', ')']"
      ]
     },
     "execution_count": 95,
     "metadata": {},
     "output_type": "execute_result"
    }
   ],
   "source": [
    "ir_char= list(ir_char)\n",
    "ir_char"
   ]
  },
  {
   "cell_type": "code",
   "execution_count": null,
   "metadata": {},
   "outputs": [],
   "source": [
    "re.sub(r\"\"\"[\\\"\\;\\/\\:\\'\\(\\)\\!\\,\\?\\.]\"\"\", \"\")"
   ]
  },
  {
   "cell_type": "code",
   "execution_count": 106,
   "metadata": {},
   "outputs": [
    {
     "name": "stdout",
     "output_type": "stream",
     "text": [
      "Is \"Do it right the first time\" necessarily right? The importance of error management culture in the hospitality industry\n",
      "It's not what you do; it's the way that you do it An exploratory study of talent managementas an inherently motivational process in the hospitality sector\n",
      "Restaurant dependence/autonomy in the supply chain and market responsiveness: The moderating roles of information technology adoption and trust\n",
      "Seeking reward or avoiding risk from restaurant reviews: does distance matter?\n",
      "Towards a hierarchy of hotel guests' in-room needs\n",
      "Towards a hierarchy of hotel guests' in-room needs\n",
      "Identifying antecedents and outcomes of festival satisfaction The case of a cosmetics & beauty expo\n",
      "Talent management and unions: The impact of the New Zealand hotel workers union on talent management in hotels (1950-1995)\n",
      "Greetings from Emily! The effects of personalized greeting cards on tipping of hotel room attendants\n",
      "An experimental study of consumption orientations, environmental sustainability advertising and home-sharing adoption intentions\n",
      "Seeking reward or avoiding risk from restaurant reviews: does distance matter?\n",
      "Understanding brand equity in hotel firms. What is the role of brand loyalty and satisfaction?\n",
      "Talent management and unions: The impact of the New Zealand hotel workers union on talent management in hotels (1950-1995)\n"
     ]
    }
   ],
   "source": [
    "for i in ir_char:\n",
    "    print(df[df.TI.str.contains(fr\"\\{i}\")].iloc[0].TI)"
   ]
  },
  {
   "cell_type": "code",
   "execution_count": 103,
   "metadata": {},
   "outputs": [
    {
     "data": {
      "text/html": [
       "<div>\n",
       "<style scoped>\n",
       "    .dataframe tbody tr th:only-of-type {\n",
       "        vertical-align: middle;\n",
       "    }\n",
       "\n",
       "    .dataframe tbody tr th {\n",
       "        vertical-align: top;\n",
       "    }\n",
       "\n",
       "    .dataframe thead th {\n",
       "        text-align: right;\n",
       "    }\n",
       "</style>\n",
       "<table border=\"1\" class=\"dataframe\">\n",
       "  <thead>\n",
       "    <tr style=\"text-align: right;\">\n",
       "      <th></th>\n",
       "      <th>JO</th>\n",
       "      <th>AU</th>\n",
       "      <th>TI</th>\n",
       "      <th>PY</th>\n",
       "      <th>DI</th>\n",
       "    </tr>\n",
       "  </thead>\n",
       "  <tbody>\n",
       "    <tr>\n",
       "      <th>0</th>\n",
       "      <td>IJCHM</td>\n",
       "      <td>Ineson, EM; Comic, D; Kalmic, L</td>\n",
       "      <td>Towards a hierarchy of hotel guests' in-room n...</td>\n",
       "      <td>2019.0</td>\n",
       "      <td>10.1108/IJCHM-01-2019-0061</td>\n",
       "    </tr>\n",
       "    <tr>\n",
       "      <th>1</th>\n",
       "      <td>IJCHM</td>\n",
       "      <td>Benitez-Aurioles, B</td>\n",
       "      <td>Barcelona's peer-to-peer tourist accommodation...</td>\n",
       "      <td>2019.0</td>\n",
       "      <td>10.1108/IJCHM-01-2019-0090</td>\n",
       "    </tr>\n",
       "    <tr>\n",
       "      <th>2</th>\n",
       "      <td>IJCHM</td>\n",
       "      <td>Hu, XB; Yang, Y; Park, S</td>\n",
       "      <td>A meta-regression on the effect of online rati...</td>\n",
       "      <td>2019.0</td>\n",
       "      <td>10.1108/IJCHM-10-2018-0835</td>\n",
       "    </tr>\n",
       "    <tr>\n",
       "      <th>3</th>\n",
       "      <td>IJCHM</td>\n",
       "      <td>Ahmat, NHC; Arendt, SW; Russell, DW</td>\n",
       "      <td>Examining work factors after Malaysia's minimu...</td>\n",
       "      <td>2019.0</td>\n",
       "      <td>10.1108/IJCHM-10-2018-0827</td>\n",
       "    </tr>\n",
       "    <tr>\n",
       "      <th>4</th>\n",
       "      <td>IJCHM</td>\n",
       "      <td>Kim, EL; Tanford, S</td>\n",
       "      <td>Seeking reward or avoiding risk from restauran...</td>\n",
       "      <td>2019.0</td>\n",
       "      <td>10.1108/IJCHM-03-2018-0235</td>\n",
       "    </tr>\n",
       "    <tr>\n",
       "      <th>...</th>\n",
       "      <td>...</td>\n",
       "      <td>...</td>\n",
       "      <td>...</td>\n",
       "      <td>...</td>\n",
       "      <td>...</td>\n",
       "    </tr>\n",
       "    <tr>\n",
       "      <th>3262</th>\n",
       "      <td>JHMM</td>\n",
       "      <td>Lu, WL; Stepchenkova, S</td>\n",
       "      <td>User-Generated Content as a Research Mode in T...</td>\n",
       "      <td>2015.0</td>\n",
       "      <td>10.1080/19368623.2014.907758</td>\n",
       "    </tr>\n",
       "    <tr>\n",
       "      <th>3263</th>\n",
       "      <td>JHMM</td>\n",
       "      <td>Ong, BS</td>\n",
       "      <td>Attitudes, Perceptions, and Responses of Purch...</td>\n",
       "      <td>2015.0</td>\n",
       "      <td>10.1080/19368623.2014.901201</td>\n",
       "    </tr>\n",
       "    <tr>\n",
       "      <th>3264</th>\n",
       "      <td>JHMM</td>\n",
       "      <td>de Leaniz, PMG; Rodriguez, IRD</td>\n",
       "      <td>Exploring the Antecedents of Hotel Customer Lo...</td>\n",
       "      <td>2015.0</td>\n",
       "      <td>10.1080/19368623.2014.891961</td>\n",
       "    </tr>\n",
       "    <tr>\n",
       "      <th>3265</th>\n",
       "      <td>JHMM</td>\n",
       "      <td>Prayag, G; Khoo-Lattimore, C; Sitruk, J</td>\n",
       "      <td>Casual Dining on the French Riviera: Examining...</td>\n",
       "      <td>2015.0</td>\n",
       "      <td>10.1080/19368623.2014.859114</td>\n",
       "    </tr>\n",
       "    <tr>\n",
       "      <th>3268</th>\n",
       "      <td>JHMM</td>\n",
       "      <td>Cao, Y; Kim, K</td>\n",
       "      <td>How Do Customers Perceive Service Quality in D...</td>\n",
       "      <td>2015.0</td>\n",
       "      <td>10.1080/19368623.2014.903817</td>\n",
       "    </tr>\n",
       "  </tbody>\n",
       "</table>\n",
       "<p>2487 rows × 5 columns</p>\n",
       "</div>"
      ],
      "text/plain": [
       "         JO                                       AU  \\\n",
       "0     IJCHM          Ineson, EM; Comic, D; Kalmic, L   \n",
       "1     IJCHM                      Benitez-Aurioles, B   \n",
       "2     IJCHM                 Hu, XB; Yang, Y; Park, S   \n",
       "3     IJCHM      Ahmat, NHC; Arendt, SW; Russell, DW   \n",
       "4     IJCHM                      Kim, EL; Tanford, S   \n",
       "...     ...                                      ...   \n",
       "3262   JHMM                  Lu, WL; Stepchenkova, S   \n",
       "3263   JHMM                                  Ong, BS   \n",
       "3264   JHMM           de Leaniz, PMG; Rodriguez, IRD   \n",
       "3265   JHMM  Prayag, G; Khoo-Lattimore, C; Sitruk, J   \n",
       "3268   JHMM                           Cao, Y; Kim, K   \n",
       "\n",
       "                                                     TI      PY  \\\n",
       "0     Towards a hierarchy of hotel guests' in-room n...  2019.0   \n",
       "1     Barcelona's peer-to-peer tourist accommodation...  2019.0   \n",
       "2     A meta-regression on the effect of online rati...  2019.0   \n",
       "3     Examining work factors after Malaysia's minimu...  2019.0   \n",
       "4     Seeking reward or avoiding risk from restauran...  2019.0   \n",
       "...                                                 ...     ...   \n",
       "3262  User-Generated Content as a Research Mode in T...  2015.0   \n",
       "3263  Attitudes, Perceptions, and Responses of Purch...  2015.0   \n",
       "3264  Exploring the Antecedents of Hotel Customer Lo...  2015.0   \n",
       "3265  Casual Dining on the French Riviera: Examining...  2015.0   \n",
       "3268  How Do Customers Perceive Service Quality in D...  2015.0   \n",
       "\n",
       "                                DI  \n",
       "0       10.1108/IJCHM-01-2019-0061  \n",
       "1       10.1108/IJCHM-01-2019-0090  \n",
       "2       10.1108/IJCHM-10-2018-0835  \n",
       "3       10.1108/IJCHM-10-2018-0827  \n",
       "4       10.1108/IJCHM-03-2018-0235  \n",
       "...                            ...  \n",
       "3262  10.1080/19368623.2014.907758  \n",
       "3263  10.1080/19368623.2014.901201  \n",
       "3264  10.1080/19368623.2014.891961  \n",
       "3265  10.1080/19368623.2014.859114  \n",
       "3268  10.1080/19368623.2014.903817  \n",
       "\n",
       "[2487 rows x 5 columns]"
      ]
     },
     "execution_count": 103,
     "metadata": {},
     "output_type": "execute_result"
    }
   ],
   "source": [
    "df[df.TI.str.contains(r\"[^A-Za-z0-9 ]\", regex=True)]"
   ]
  },
  {
   "cell_type": "code",
   "execution_count": 115,
   "metadata": {},
   "outputs": [],
   "source": [
    "def replace_ir_char(s):\n",
    "    s=s.lower()\n",
    "    s = re.sub(r\"\"\"[\\\"\\;\\/\\:\\'\\(\\)\\!\\,\\?\\.]\"\"\", \"\", s)\n",
    "    s= s.replace('&', 'amp')\n",
    "    s= s.replace(' ', '-')\n",
    "    return s"
   ]
  },
  {
   "cell_type": "code",
   "execution_count": 136,
   "metadata": {},
   "outputs": [],
   "source": [
    "def make_regular_url(row):\n",
    "    fs=\"https://www.emerald.com/insight/content/doi/\"\n",
    "    ss = row[\"DI\"]\n",
    "    ts =  \"/full/pdf?title=\"\n",
    "    fos= replace_ir_char(row[\"TI\"])\n",
    "    return fs+ss+ts+fos"
   ]
  },
  {
   "cell_type": "code",
   "execution_count": 142,
   "metadata": {},
   "outputs": [],
   "source": [
    "df[\"url\"] = df[df.DI.notnull()].apply(make_regular_url, axis=1)"
   ]
  },
  {
   "cell_type": "code",
   "execution_count": 143,
   "metadata": {},
   "outputs": [
    {
     "data": {
      "text/html": [
       "<div>\n",
       "<style scoped>\n",
       "    .dataframe tbody tr th:only-of-type {\n",
       "        vertical-align: middle;\n",
       "    }\n",
       "\n",
       "    .dataframe tbody tr th {\n",
       "        vertical-align: top;\n",
       "    }\n",
       "\n",
       "    .dataframe thead th {\n",
       "        text-align: right;\n",
       "    }\n",
       "</style>\n",
       "<table border=\"1\" class=\"dataframe\">\n",
       "  <thead>\n",
       "    <tr style=\"text-align: right;\">\n",
       "      <th></th>\n",
       "      <th>JO</th>\n",
       "      <th>AU</th>\n",
       "      <th>TI</th>\n",
       "      <th>PY</th>\n",
       "      <th>DI</th>\n",
       "      <th>url</th>\n",
       "    </tr>\n",
       "  </thead>\n",
       "  <tbody>\n",
       "    <tr>\n",
       "      <th>0</th>\n",
       "      <td>IJCHM</td>\n",
       "      <td>Ineson, EM; Comic, D; Kalmic, L</td>\n",
       "      <td>Towards a hierarchy of hotel guests' in-room n...</td>\n",
       "      <td>2019.0</td>\n",
       "      <td>10.1108/IJCHM-01-2019-0061</td>\n",
       "      <td>https://www.emerald.com/insight/content/doi/10...</td>\n",
       "    </tr>\n",
       "    <tr>\n",
       "      <th>1</th>\n",
       "      <td>IJCHM</td>\n",
       "      <td>Benitez-Aurioles, B</td>\n",
       "      <td>Barcelona's peer-to-peer tourist accommodation...</td>\n",
       "      <td>2019.0</td>\n",
       "      <td>10.1108/IJCHM-01-2019-0090</td>\n",
       "      <td>https://www.emerald.com/insight/content/doi/10...</td>\n",
       "    </tr>\n",
       "    <tr>\n",
       "      <th>2</th>\n",
       "      <td>IJCHM</td>\n",
       "      <td>Hu, XB; Yang, Y; Park, S</td>\n",
       "      <td>A meta-regression on the effect of online rati...</td>\n",
       "      <td>2019.0</td>\n",
       "      <td>10.1108/IJCHM-10-2018-0835</td>\n",
       "      <td>https://www.emerald.com/insight/content/doi/10...</td>\n",
       "    </tr>\n",
       "    <tr>\n",
       "      <th>3</th>\n",
       "      <td>IJCHM</td>\n",
       "      <td>Ahmat, NHC; Arendt, SW; Russell, DW</td>\n",
       "      <td>Examining work factors after Malaysia's minimu...</td>\n",
       "      <td>2019.0</td>\n",
       "      <td>10.1108/IJCHM-10-2018-0827</td>\n",
       "      <td>https://www.emerald.com/insight/content/doi/10...</td>\n",
       "    </tr>\n",
       "    <tr>\n",
       "      <th>4</th>\n",
       "      <td>IJCHM</td>\n",
       "      <td>Kim, EL; Tanford, S</td>\n",
       "      <td>Seeking reward or avoiding risk from restauran...</td>\n",
       "      <td>2019.0</td>\n",
       "      <td>10.1108/IJCHM-03-2018-0235</td>\n",
       "      <td>https://www.emerald.com/insight/content/doi/10...</td>\n",
       "    </tr>\n",
       "    <tr>\n",
       "      <th>...</th>\n",
       "      <td>...</td>\n",
       "      <td>...</td>\n",
       "      <td>...</td>\n",
       "      <td>...</td>\n",
       "      <td>...</td>\n",
       "      <td>...</td>\n",
       "    </tr>\n",
       "    <tr>\n",
       "      <th>3264</th>\n",
       "      <td>JHMM</td>\n",
       "      <td>de Leaniz, PMG; Rodriguez, IRD</td>\n",
       "      <td>Exploring the Antecedents of Hotel Customer Lo...</td>\n",
       "      <td>2015.0</td>\n",
       "      <td>10.1080/19368623.2014.891961</td>\n",
       "      <td>https://www.emerald.com/insight/content/doi/10...</td>\n",
       "    </tr>\n",
       "    <tr>\n",
       "      <th>3265</th>\n",
       "      <td>JHMM</td>\n",
       "      <td>Prayag, G; Khoo-Lattimore, C; Sitruk, J</td>\n",
       "      <td>Casual Dining on the French Riviera: Examining...</td>\n",
       "      <td>2015.0</td>\n",
       "      <td>10.1080/19368623.2014.859114</td>\n",
       "      <td>https://www.emerald.com/insight/content/doi/10...</td>\n",
       "    </tr>\n",
       "    <tr>\n",
       "      <th>3266</th>\n",
       "      <td>JHMM</td>\n",
       "      <td>Morosan, C</td>\n",
       "      <td>The Influence of DMO Advertising on Specific D...</td>\n",
       "      <td>2015.0</td>\n",
       "      <td>10.1080/19368623.2014.891962</td>\n",
       "      <td>https://www.emerald.com/insight/content/doi/10...</td>\n",
       "    </tr>\n",
       "    <tr>\n",
       "      <th>3267</th>\n",
       "      <td>JHMM</td>\n",
       "      <td>Memarzadeh, F; Chang, HJ</td>\n",
       "      <td>Online Consumer Complaints About Southeast Asi...</td>\n",
       "      <td>2015.0</td>\n",
       "      <td>10.1080/19368623.2014.893222</td>\n",
       "      <td>https://www.emerald.com/insight/content/doi/10...</td>\n",
       "    </tr>\n",
       "    <tr>\n",
       "      <th>3268</th>\n",
       "      <td>JHMM</td>\n",
       "      <td>Cao, Y; Kim, K</td>\n",
       "      <td>How Do Customers Perceive Service Quality in D...</td>\n",
       "      <td>2015.0</td>\n",
       "      <td>10.1080/19368623.2014.903817</td>\n",
       "      <td>https://www.emerald.com/insight/content/doi/10...</td>\n",
       "    </tr>\n",
       "  </tbody>\n",
       "</table>\n",
       "<p>3269 rows × 6 columns</p>\n",
       "</div>"
      ],
      "text/plain": [
       "         JO                                       AU  \\\n",
       "0     IJCHM          Ineson, EM; Comic, D; Kalmic, L   \n",
       "1     IJCHM                      Benitez-Aurioles, B   \n",
       "2     IJCHM                 Hu, XB; Yang, Y; Park, S   \n",
       "3     IJCHM      Ahmat, NHC; Arendt, SW; Russell, DW   \n",
       "4     IJCHM                      Kim, EL; Tanford, S   \n",
       "...     ...                                      ...   \n",
       "3264   JHMM           de Leaniz, PMG; Rodriguez, IRD   \n",
       "3265   JHMM  Prayag, G; Khoo-Lattimore, C; Sitruk, J   \n",
       "3266   JHMM                               Morosan, C   \n",
       "3267   JHMM                 Memarzadeh, F; Chang, HJ   \n",
       "3268   JHMM                           Cao, Y; Kim, K   \n",
       "\n",
       "                                                     TI      PY  \\\n",
       "0     Towards a hierarchy of hotel guests' in-room n...  2019.0   \n",
       "1     Barcelona's peer-to-peer tourist accommodation...  2019.0   \n",
       "2     A meta-regression on the effect of online rati...  2019.0   \n",
       "3     Examining work factors after Malaysia's minimu...  2019.0   \n",
       "4     Seeking reward or avoiding risk from restauran...  2019.0   \n",
       "...                                                 ...     ...   \n",
       "3264  Exploring the Antecedents of Hotel Customer Lo...  2015.0   \n",
       "3265  Casual Dining on the French Riviera: Examining...  2015.0   \n",
       "3266  The Influence of DMO Advertising on Specific D...  2015.0   \n",
       "3267  Online Consumer Complaints About Southeast Asi...  2015.0   \n",
       "3268  How Do Customers Perceive Service Quality in D...  2015.0   \n",
       "\n",
       "                                DI  \\\n",
       "0       10.1108/IJCHM-01-2019-0061   \n",
       "1       10.1108/IJCHM-01-2019-0090   \n",
       "2       10.1108/IJCHM-10-2018-0835   \n",
       "3       10.1108/IJCHM-10-2018-0827   \n",
       "4       10.1108/IJCHM-03-2018-0235   \n",
       "...                            ...   \n",
       "3264  10.1080/19368623.2014.891961   \n",
       "3265  10.1080/19368623.2014.859114   \n",
       "3266  10.1080/19368623.2014.891962   \n",
       "3267  10.1080/19368623.2014.893222   \n",
       "3268  10.1080/19368623.2014.903817   \n",
       "\n",
       "                                                    url  \n",
       "0     https://www.emerald.com/insight/content/doi/10...  \n",
       "1     https://www.emerald.com/insight/content/doi/10...  \n",
       "2     https://www.emerald.com/insight/content/doi/10...  \n",
       "3     https://www.emerald.com/insight/content/doi/10...  \n",
       "4     https://www.emerald.com/insight/content/doi/10...  \n",
       "...                                                 ...  \n",
       "3264  https://www.emerald.com/insight/content/doi/10...  \n",
       "3265  https://www.emerald.com/insight/content/doi/10...  \n",
       "3266  https://www.emerald.com/insight/content/doi/10...  \n",
       "3267  https://www.emerald.com/insight/content/doi/10...  \n",
       "3268  https://www.emerald.com/insight/content/doi/10...  \n",
       "\n",
       "[3269 rows x 6 columns]"
      ]
     },
     "execution_count": 143,
     "metadata": {},
     "output_type": "execute_result"
    }
   ],
   "source": [
    "df"
   ]
  },
  {
   "cell_type": "code",
   "execution_count": 345,
   "metadata": {},
   "outputs": [],
   "source": [
    "# df.to_excel(\"Data/paper.xlsx\", index=False)"
   ]
  },
  {
   "cell_type": "code",
   "execution_count": 346,
   "metadata": {},
   "outputs": [
    {
     "data": {
      "text/html": [
       "<div>\n",
       "<style scoped>\n",
       "    .dataframe tbody tr th:only-of-type {\n",
       "        vertical-align: middle;\n",
       "    }\n",
       "\n",
       "    .dataframe tbody tr th {\n",
       "        vertical-align: top;\n",
       "    }\n",
       "\n",
       "    .dataframe thead th {\n",
       "        text-align: right;\n",
       "    }\n",
       "</style>\n",
       "<table border=\"1\" class=\"dataframe\">\n",
       "  <thead>\n",
       "    <tr style=\"text-align: right;\">\n",
       "      <th></th>\n",
       "      <th>JO</th>\n",
       "      <th>AU</th>\n",
       "      <th>TI</th>\n",
       "      <th>PY</th>\n",
       "      <th>DI</th>\n",
       "      <th>url</th>\n",
       "      <th>url_1</th>\n",
       "    </tr>\n",
       "  </thead>\n",
       "  <tbody>\n",
       "    <tr>\n",
       "      <th>0</th>\n",
       "      <td>IJCHM</td>\n",
       "      <td>Ineson, EM; Comic, D; Kalmic, L</td>\n",
       "      <td>Towards a hierarchy of hotel guests' in-room n...</td>\n",
       "      <td>2019.0</td>\n",
       "      <td>10.1108/IJCHM-01-2019-0061</td>\n",
       "      <td>https://www.emerald.com/insight/content/doi/10...</td>\n",
       "      <td>https://www.emerald.com/insight/content/doi/10...</td>\n",
       "    </tr>\n",
       "    <tr>\n",
       "      <th>1</th>\n",
       "      <td>IJCHM</td>\n",
       "      <td>Benitez-Aurioles, B</td>\n",
       "      <td>Barcelona's peer-to-peer tourist accommodation...</td>\n",
       "      <td>2019.0</td>\n",
       "      <td>10.1108/IJCHM-01-2019-0090</td>\n",
       "      <td>https://www.emerald.com/insight/content/doi/10...</td>\n",
       "      <td>https://www.emerald.com/insight/content/doi/10...</td>\n",
       "    </tr>\n",
       "    <tr>\n",
       "      <th>2</th>\n",
       "      <td>IJCHM</td>\n",
       "      <td>Hu, XB; Yang, Y; Park, S</td>\n",
       "      <td>A meta-regression on the effect of online rati...</td>\n",
       "      <td>2019.0</td>\n",
       "      <td>10.1108/IJCHM-10-2018-0835</td>\n",
       "      <td>https://www.emerald.com/insight/content/doi/10...</td>\n",
       "      <td>https://www.emerald.com/insight/content/doi/10...</td>\n",
       "    </tr>\n",
       "    <tr>\n",
       "      <th>3</th>\n",
       "      <td>IJCHM</td>\n",
       "      <td>Ahmat, NHC; Arendt, SW; Russell, DW</td>\n",
       "      <td>Examining work factors after Malaysia's minimu...</td>\n",
       "      <td>2019.0</td>\n",
       "      <td>10.1108/IJCHM-10-2018-0827</td>\n",
       "      <td>https://www.emerald.com/insight/content/doi/10...</td>\n",
       "      <td>https://www.emerald.com/insight/content/doi/10...</td>\n",
       "    </tr>\n",
       "    <tr>\n",
       "      <th>4</th>\n",
       "      <td>IJCHM</td>\n",
       "      <td>Kim, EL; Tanford, S</td>\n",
       "      <td>Seeking reward or avoiding risk from restauran...</td>\n",
       "      <td>2019.0</td>\n",
       "      <td>10.1108/IJCHM-03-2018-0235</td>\n",
       "      <td>https://www.emerald.com/insight/content/doi/10...</td>\n",
       "      <td>https://www.emerald.com/insight/content/doi/10...</td>\n",
       "    </tr>\n",
       "    <tr>\n",
       "      <th>...</th>\n",
       "      <td>...</td>\n",
       "      <td>...</td>\n",
       "      <td>...</td>\n",
       "      <td>...</td>\n",
       "      <td>...</td>\n",
       "      <td>...</td>\n",
       "      <td>...</td>\n",
       "    </tr>\n",
       "    <tr>\n",
       "      <th>3264</th>\n",
       "      <td>JHMM</td>\n",
       "      <td>de Leaniz, PMG; Rodriguez, IRD</td>\n",
       "      <td>Exploring the Antecedents of Hotel Customer Lo...</td>\n",
       "      <td>2015.0</td>\n",
       "      <td>10.1080/19368623.2014.891961</td>\n",
       "      <td>https://www.emerald.com/insight/content/doi/10...</td>\n",
       "      <td>https://www.emerald.com/insight/content/doi/10...</td>\n",
       "    </tr>\n",
       "    <tr>\n",
       "      <th>3265</th>\n",
       "      <td>JHMM</td>\n",
       "      <td>Prayag, G; Khoo-Lattimore, C; Sitruk, J</td>\n",
       "      <td>Casual Dining on the French Riviera: Examining...</td>\n",
       "      <td>2015.0</td>\n",
       "      <td>10.1080/19368623.2014.859114</td>\n",
       "      <td>https://www.emerald.com/insight/content/doi/10...</td>\n",
       "      <td>https://www.emerald.com/insight/content/doi/10...</td>\n",
       "    </tr>\n",
       "    <tr>\n",
       "      <th>3266</th>\n",
       "      <td>JHMM</td>\n",
       "      <td>Morosan, C</td>\n",
       "      <td>The Influence of DMO Advertising on Specific D...</td>\n",
       "      <td>2015.0</td>\n",
       "      <td>10.1080/19368623.2014.891962</td>\n",
       "      <td>https://www.emerald.com/insight/content/doi/10...</td>\n",
       "      <td>https://www.emerald.com/insight/content/doi/10...</td>\n",
       "    </tr>\n",
       "    <tr>\n",
       "      <th>3267</th>\n",
       "      <td>JHMM</td>\n",
       "      <td>Memarzadeh, F; Chang, HJ</td>\n",
       "      <td>Online Consumer Complaints About Southeast Asi...</td>\n",
       "      <td>2015.0</td>\n",
       "      <td>10.1080/19368623.2014.893222</td>\n",
       "      <td>https://www.emerald.com/insight/content/doi/10...</td>\n",
       "      <td>https://www.emerald.com/insight/content/doi/10...</td>\n",
       "    </tr>\n",
       "    <tr>\n",
       "      <th>3268</th>\n",
       "      <td>JHMM</td>\n",
       "      <td>Cao, Y; Kim, K</td>\n",
       "      <td>How Do Customers Perceive Service Quality in D...</td>\n",
       "      <td>2015.0</td>\n",
       "      <td>10.1080/19368623.2014.903817</td>\n",
       "      <td>https://www.emerald.com/insight/content/doi/10...</td>\n",
       "      <td>https://www.emerald.com/insight/content/doi/10...</td>\n",
       "    </tr>\n",
       "  </tbody>\n",
       "</table>\n",
       "<p>3269 rows × 7 columns</p>\n",
       "</div>"
      ],
      "text/plain": [
       "         JO                                       AU  \\\n",
       "0     IJCHM          Ineson, EM; Comic, D; Kalmic, L   \n",
       "1     IJCHM                      Benitez-Aurioles, B   \n",
       "2     IJCHM                 Hu, XB; Yang, Y; Park, S   \n",
       "3     IJCHM      Ahmat, NHC; Arendt, SW; Russell, DW   \n",
       "4     IJCHM                      Kim, EL; Tanford, S   \n",
       "...     ...                                      ...   \n",
       "3264   JHMM           de Leaniz, PMG; Rodriguez, IRD   \n",
       "3265   JHMM  Prayag, G; Khoo-Lattimore, C; Sitruk, J   \n",
       "3266   JHMM                               Morosan, C   \n",
       "3267   JHMM                 Memarzadeh, F; Chang, HJ   \n",
       "3268   JHMM                           Cao, Y; Kim, K   \n",
       "\n",
       "                                                     TI      PY  \\\n",
       "0     Towards a hierarchy of hotel guests' in-room n...  2019.0   \n",
       "1     Barcelona's peer-to-peer tourist accommodation...  2019.0   \n",
       "2     A meta-regression on the effect of online rati...  2019.0   \n",
       "3     Examining work factors after Malaysia's minimu...  2019.0   \n",
       "4     Seeking reward or avoiding risk from restauran...  2019.0   \n",
       "...                                                 ...     ...   \n",
       "3264  Exploring the Antecedents of Hotel Customer Lo...  2015.0   \n",
       "3265  Casual Dining on the French Riviera: Examining...  2015.0   \n",
       "3266  The Influence of DMO Advertising on Specific D...  2015.0   \n",
       "3267  Online Consumer Complaints About Southeast Asi...  2015.0   \n",
       "3268  How Do Customers Perceive Service Quality in D...  2015.0   \n",
       "\n",
       "                                DI  \\\n",
       "0       10.1108/IJCHM-01-2019-0061   \n",
       "1       10.1108/IJCHM-01-2019-0090   \n",
       "2       10.1108/IJCHM-10-2018-0835   \n",
       "3       10.1108/IJCHM-10-2018-0827   \n",
       "4       10.1108/IJCHM-03-2018-0235   \n",
       "...                            ...   \n",
       "3264  10.1080/19368623.2014.891961   \n",
       "3265  10.1080/19368623.2014.859114   \n",
       "3266  10.1080/19368623.2014.891962   \n",
       "3267  10.1080/19368623.2014.893222   \n",
       "3268  10.1080/19368623.2014.903817   \n",
       "\n",
       "                                                    url  \\\n",
       "0     https://www.emerald.com/insight/content/doi/10...   \n",
       "1     https://www.emerald.com/insight/content/doi/10...   \n",
       "2     https://www.emerald.com/insight/content/doi/10...   \n",
       "3     https://www.emerald.com/insight/content/doi/10...   \n",
       "4     https://www.emerald.com/insight/content/doi/10...   \n",
       "...                                                 ...   \n",
       "3264  https://www.emerald.com/insight/content/doi/10...   \n",
       "3265  https://www.emerald.com/insight/content/doi/10...   \n",
       "3266  https://www.emerald.com/insight/content/doi/10...   \n",
       "3267  https://www.emerald.com/insight/content/doi/10...   \n",
       "3268  https://www.emerald.com/insight/content/doi/10...   \n",
       "\n",
       "                                                  url_1  \n",
       "0     https://www.emerald.com/insight/content/doi/10...  \n",
       "1     https://www.emerald.com/insight/content/doi/10...  \n",
       "2     https://www.emerald.com/insight/content/doi/10...  \n",
       "3     https://www.emerald.com/insight/content/doi/10...  \n",
       "4     https://www.emerald.com/insight/content/doi/10...  \n",
       "...                                                 ...  \n",
       "3264  https://www.emerald.com/insight/content/doi/10...  \n",
       "3265  https://www.emerald.com/insight/content/doi/10...  \n",
       "3266  https://www.emerald.com/insight/content/doi/10...  \n",
       "3267  https://www.emerald.com/insight/content/doi/10...  \n",
       "3268  https://www.emerald.com/insight/content/doi/10...  \n",
       "\n",
       "[3269 rows x 7 columns]"
      ]
     },
     "execution_count": 346,
     "metadata": {},
     "output_type": "execute_result"
    }
   ],
   "source": [
    "df= pd.read_excel(\"Data/paper.xlsx\")\n",
    "df"
   ]
  },
  {
   "cell_type": "code",
   "execution_count": 347,
   "metadata": {},
   "outputs": [
    {
     "data": {
      "text/plain": [
       "'https://www.emerald.com/insight/content/doi/10.1108/IJCHM-01-2019-0061/full/pdf?title=towards-a-hierarchy-of-hotel-guests-in-room-needs'"
      ]
     },
     "execution_count": 347,
     "metadata": {},
     "output_type": "execute_result"
    }
   ],
   "source": [
    "df.url.iloc[0]"
   ]
  },
  {
   "cell_type": "code",
   "execution_count": 348,
   "metadata": {},
   "outputs": [
    {
     "data": {
      "text/plain": [
       "'https://www.emerald.com/insight/content/doi/10.1108/IJCHM-01-2019-0061/full/html?skipTracking=true'"
      ]
     },
     "execution_count": 348,
     "metadata": {},
     "output_type": "execute_result"
    }
   ],
   "source": [
    "df.url_1[0]"
   ]
  },
  {
   "cell_type": "code",
   "execution_count": null,
   "metadata": {},
   "outputs": [],
   "source": []
  },
  {
   "cell_type": "code",
   "execution_count": 191,
   "metadata": {},
   "outputs": [
    {
     "data": {
      "text/plain": [
       "'https://www.emerald.com/insight/content/doi/10.1108/IJCHM-01-2019-0061/full/html?skipTracking=true'"
      ]
     },
     "execution_count": 191,
     "metadata": {},
     "output_type": "execute_result"
    }
   ],
   "source": [
    "x = \"https://www.emerald.com/insight/content/doi/10.1108/IJCHM-01-2019-0061/full/html?skipTracking=true\"\n",
    "x"
   ]
  },
  {
   "cell_type": "code",
   "execution_count": 192,
   "metadata": {},
   "outputs": [
    {
     "data": {
      "text/plain": [
       "True"
      ]
     },
     "execution_count": 192,
     "metadata": {},
     "output_type": "execute_result"
    }
   ],
   "source": [
    "a.split(\"pdf?title\")[0]+\"html?skipTracking=true\" == x"
   ]
  },
  {
   "cell_type": "code",
   "execution_count": 343,
   "metadata": {},
   "outputs": [],
   "source": [
    "df[\"url_1\"] = df.url.str.split(\"pdf\\?title\", expand=True)[0] + \"html?skipTracking=true\""
   ]
  },
  {
   "cell_type": "code",
   "execution_count": 344,
   "metadata": {},
   "outputs": [
    {
     "data": {
      "text/plain": [
       "'https://www.emerald.com/insight/content/doi/10.1108/IJCHM-01-2019-0061/full/html?skipTracking=true'"
      ]
     },
     "execution_count": 344,
     "metadata": {},
     "output_type": "execute_result"
    }
   ],
   "source": [
    "df[\"url_1\"].iloc[0]"
   ]
  },
  {
   "cell_type": "code",
   "execution_count": 350,
   "metadata": {},
   "outputs": [
    {
     "data": {
      "text/plain": [
       "'https://www.emerald.com/insight/content/doi/10.1108/IJCHM-10-2018-0835/full/html?skipTracking=true'"
      ]
     },
     "execution_count": 350,
     "metadata": {},
     "output_type": "execute_result"
    }
   ],
   "source": [
    "df[\"url_1\"].iloc[2]"
   ]
  },
  {
   "cell_type": "code",
   "execution_count": null,
   "metadata": {},
   "outputs": [],
   "source": []
  },
  {
   "cell_type": "code",
   "execution_count": 152,
   "metadata": {},
   "outputs": [
    {
     "data": {
      "text/plain": [
       "('Data/den.pdf', <http.client.HTTPMessage at 0x1ee46ec14c0>)"
      ]
     },
     "execution_count": 152,
     "metadata": {},
     "output_type": "execute_result"
    }
   ],
   "source": [
    "import urllib.request\n",
    "urllib.request.urlretrieve(df.url[0], \"Data/den.pdf\")"
   ]
  },
  {
   "cell_type": "code",
   "execution_count": 151,
   "metadata": {},
   "outputs": [
    {
     "ename": "NameError",
     "evalue": "name 'den' is not defined",
     "output_type": "error",
     "traceback": [
      "\u001b[1;31m---------------------------------------------------------------------------\u001b[0m",
      "\u001b[1;31mNameError\u001b[0m                                 Traceback (most recent call last)",
      "\u001b[1;32m<ipython-input-151-7ae8d1f8aef2>\u001b[0m in \u001b[0;36m<module>\u001b[1;34m\u001b[0m\n\u001b[1;32m----> 1\u001b[1;33m \u001b[0mden\u001b[0m\u001b[1;33m.\u001b[0m\u001b[0mpdf\u001b[0m\u001b[1;33m\u001b[0m\u001b[1;33m\u001b[0m\u001b[0m\n\u001b[0m",
      "\u001b[1;31mNameError\u001b[0m: name 'den' is not defined"
     ]
    }
   ],
   "source": [
    "den.pdf"
   ]
  },
  {
   "cell_type": "code",
   "execution_count": 155,
   "metadata": {},
   "outputs": [],
   "source": [
    "import wget"
   ]
  },
  {
   "cell_type": "code",
   "execution_count": 157,
   "metadata": {},
   "outputs": [
    {
     "data": {
      "text/plain": [
       "'Data/pap/1.pdf'"
      ]
     },
     "execution_count": 157,
     "metadata": {},
     "output_type": "execute_result"
    }
   ],
   "source": [
    "wget.download(df.url[0], out=\"Data/pap/1.pdf\")"
   ]
  },
  {
   "cell_type": "code",
   "execution_count": 162,
   "metadata": {},
   "outputs": [
    {
     "data": {
      "text/plain": [
       "77509"
      ]
     },
     "execution_count": 162,
     "metadata": {},
     "output_type": "execute_result"
    }
   ],
   "source": [
    "from pathlib import Path\n",
    "import requests\n",
    "filename = Path('Data/pap/2.pdf')\n",
    "url = df.url[0]\n",
    "response = requests.get(\"https://www.emerald.com/insight/content/doi/10.1108/IJCHM-01-2019-0061/full/pdf?title=towards-a-hierarchy-of-hotel-guests-in-room-needs.pdf\")\n",
    "filename.write_bytes(response.content)"
   ]
  },
  {
   "cell_type": "code",
   "execution_count": 163,
   "metadata": {},
   "outputs": [
    {
     "name": "stdout",
     "output_type": "stream",
     "text": [
      "Collecting selenium\n",
      "  Downloading selenium-3.141.0-py2.py3-none-any.whl (904 kB)\n",
      "Requirement already satisfied: urllib3 in c:\\programdata\\anaconda3\\lib\\site-packages (from selenium) (1.25.9)\n",
      "Installing collected packages: selenium\n",
      "Successfully installed selenium-3.141.0\n"
     ]
    }
   ],
   "source": [
    "!pip install selenium"
   ]
  },
  {
   "cell_type": "code",
   "execution_count": null,
   "metadata": {},
   "outputs": [],
   "source": []
  },
  {
   "cell_type": "code",
   "execution_count": null,
   "metadata": {},
   "outputs": [],
   "source": []
  },
  {
   "cell_type": "code",
   "execution_count": null,
   "metadata": {},
   "outputs": [],
   "source": []
  },
  {
   "cell_type": "code",
   "execution_count": null,
   "metadata": {},
   "outputs": [],
   "source": []
  },
  {
   "cell_type": "code",
   "execution_count": 78,
   "metadata": {},
   "outputs": [],
   "source": [
    "import re"
   ]
  },
  {
   "cell_type": "code",
   "execution_count": 123,
   "metadata": {},
   "outputs": [],
   "source": [
    "fs=\"https://www.emerald.com/insight/content/doi/\""
   ]
  },
  {
   "cell_type": "code",
   "execution_count": 72,
   "metadata": {},
   "outputs": [
    {
     "data": {
      "text/plain": [
       "'10.1108/IJCHM-01-2019-0090'"
      ]
     },
     "execution_count": 72,
     "metadata": {},
     "output_type": "execute_result"
    }
   ],
   "source": [
    "ss = df.iloc[1].DI\n",
    "ss"
   ]
  },
  {
   "cell_type": "code",
   "execution_count": 120,
   "metadata": {},
   "outputs": [],
   "source": [
    "ts = \"/full/pdf?title=\""
   ]
  },
  {
   "cell_type": "code",
   "execution_count": 126,
   "metadata": {},
   "outputs": [
    {
     "data": {
      "text/plain": [
       "\"Barcelona's peer-to-peer tourist accommodation market in turbulent times Terrorism and political uncertainty\""
      ]
     },
     "execution_count": 126,
     "metadata": {},
     "output_type": "execute_result"
    }
   ],
   "source": [
    "fos = df.iloc[1].TI\n",
    "fos"
   ]
  },
  {
   "cell_type": "code",
   "execution_count": 128,
   "metadata": {},
   "outputs": [],
   "source": [
    "fos = replace_ir_char(fos)"
   ]
  },
  {
   "cell_type": "code",
   "execution_count": 118,
   "metadata": {},
   "outputs": [
    {
     "data": {
      "text/plain": [
       "'https://www.emerald.com/insight/content/doi/10.1108/IJCHM-01-2019-0090/full/pdf?title=barcelonas-peer-to-peer-tourist-accommodation-market-in-turbulent-times-terrorism-and-political-uncertainty'"
      ]
     },
     "execution_count": 118,
     "metadata": {},
     "output_type": "execute_result"
    }
   ],
   "source": [
    "test1= \"https://www.emerald.com/insight/content/doi/10.1108/IJCHM-01-2019-0090/full/pdf?title=barcelonas-peer-to-peer-tourist-accommodation-market-in-turbulent-times-terrorism-and-political-uncertainty\"\n",
    "test1"
   ]
  },
  {
   "cell_type": "code",
   "execution_count": 129,
   "metadata": {},
   "outputs": [
    {
     "data": {
      "text/plain": [
       "'https://www.emerald.com/insight/content/doi/10.1108/IJCHM-01-2019-0090/full/pdf?title=barcelonas-peer-to-peer-tourist-accommodation-market-in-turbulent-times-terrorism-and-political-uncertainty'"
      ]
     },
     "execution_count": 129,
     "metadata": {},
     "output_type": "execute_result"
    }
   ],
   "source": [
    "fs+ss+ts+fos"
   ]
  },
  {
   "cell_type": "code",
   "execution_count": 130,
   "metadata": {},
   "outputs": [
    {
     "data": {
      "text/plain": [
       "True"
      ]
     },
     "execution_count": 130,
     "metadata": {},
     "output_type": "execute_result"
    }
   ],
   "source": [
    "fs+ss+ts+fos ==test1"
   ]
  },
  {
   "cell_type": "code",
   "execution_count": null,
   "metadata": {},
   "outputs": [],
   "source": []
  }
 ],
 "metadata": {
  "kernelspec": {
   "display_name": "Python 3",
   "language": "python",
   "name": "python3"
  },
  "language_info": {
   "codemirror_mode": {
    "name": "ipython",
    "version": 3
   },
   "file_extension": ".py",
   "mimetype": "text/x-python",
   "name": "python",
   "nbconvert_exporter": "python",
   "pygments_lexer": "ipython3",
   "version": "3.8.3"
  }
 },
 "nbformat": 4,
 "nbformat_minor": 4
}
