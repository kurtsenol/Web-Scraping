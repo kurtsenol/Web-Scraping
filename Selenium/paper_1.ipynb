{
 "cells": [
  {
   "cell_type": "code",
   "execution_count": 1,
   "metadata": {},
   "outputs": [],
   "source": [
    "import pandas as pd\n",
    "import os\n",
    "import io\n",
    "from pathlib import Path\n",
    "import numpy as np\n",
    "import re\n"
   ]
  },
  {
   "cell_type": "code",
   "execution_count": 2,
   "metadata": {},
   "outputs": [],
   "source": [
    "from selenium import webdriver\n",
    "\n",
    "from selenium.webdriver.common.action_chains import ActionChains\n",
    "\n",
    "from selenium.webdriver.support.ui import WebDriverWait\n",
    "\n",
    "from selenium.webdriver.common.by import By\n",
    "from selenium.webdriver.support import expected_conditions as ec\n",
    "\n",
    "from selenium.webdriver.support.ui import Select\n",
    "from selenium.webdriver.common.keys import Keys\n",
    "\n",
    "from selenium.common.exceptions import NoSuchElementException"
   ]
  },
  {
   "cell_type": "code",
   "execution_count": 3,
   "metadata": {},
   "outputs": [],
   "source": [
    "all = pd.read_excel('Data/Analysis of Turizm Journals.xlsx', sheet_name=None, usecols=\"A:D\", header=1 )"
   ]
  },
  {
   "cell_type": "code",
   "execution_count": 4,
   "metadata": {},
   "outputs": [
    {
     "data": {
      "text/plain": [
       "dict_keys(['General Information', 'IJCHM', 'IJHM', 'CHQ', 'JHTR', 'JHMM'])"
      ]
     },
     "execution_count": 4,
     "metadata": {},
     "output_type": "execute_result"
    }
   ],
   "source": [
    "all.keys()"
   ]
  },
  {
   "cell_type": "code",
   "execution_count": 5,
   "metadata": {},
   "outputs": [],
   "source": [
    "del all[\"General Information\"]"
   ]
  },
  {
   "cell_type": "code",
   "execution_count": 6,
   "metadata": {},
   "outputs": [],
   "source": [
    "df = pd.concat(all)"
   ]
  },
  {
   "cell_type": "code",
   "execution_count": 7,
   "metadata": {},
   "outputs": [
    {
     "data": {
      "text/html": [
       "<div>\n",
       "<style scoped>\n",
       "    .dataframe tbody tr th:only-of-type {\n",
       "        vertical-align: middle;\n",
       "    }\n",
       "\n",
       "    .dataframe tbody tr th {\n",
       "        vertical-align: top;\n",
       "    }\n",
       "\n",
       "    .dataframe thead th {\n",
       "        text-align: right;\n",
       "    }\n",
       "</style>\n",
       "<table border=\"1\" class=\"dataframe\">\n",
       "  <thead>\n",
       "    <tr style=\"text-align: right;\">\n",
       "      <th></th>\n",
       "      <th></th>\n",
       "      <th>AU</th>\n",
       "      <th>TI</th>\n",
       "      <th>PY</th>\n",
       "      <th>DI</th>\n",
       "    </tr>\n",
       "  </thead>\n",
       "  <tbody>\n",
       "    <tr>\n",
       "      <th rowspan=\"5\" valign=\"top\">IJCHM</th>\n",
       "      <th>0</th>\n",
       "      <td>Ineson, EM; Comic, D; Kalmic, L</td>\n",
       "      <td>Towards a hierarchy of hotel guests' in-room n...</td>\n",
       "      <td>2019.0</td>\n",
       "      <td>10.1108/IJCHM-01-2019-0061</td>\n",
       "    </tr>\n",
       "    <tr>\n",
       "      <th>1</th>\n",
       "      <td>Benitez-Aurioles, B</td>\n",
       "      <td>Barcelona's peer-to-peer tourist accommodation...</td>\n",
       "      <td>2019.0</td>\n",
       "      <td>10.1108/IJCHM-01-2019-0090</td>\n",
       "    </tr>\n",
       "    <tr>\n",
       "      <th>2</th>\n",
       "      <td>Hu, XB; Yang, Y; Park, S</td>\n",
       "      <td>A meta-regression on the effect of online rati...</td>\n",
       "      <td>2019.0</td>\n",
       "      <td>10.1108/IJCHM-10-2018-0835</td>\n",
       "    </tr>\n",
       "    <tr>\n",
       "      <th>3</th>\n",
       "      <td>Ahmat, NHC; Arendt, SW; Russell, DW</td>\n",
       "      <td>Examining work factors after Malaysia's minimu...</td>\n",
       "      <td>2019.0</td>\n",
       "      <td>10.1108/IJCHM-10-2018-0827</td>\n",
       "    </tr>\n",
       "    <tr>\n",
       "      <th>4</th>\n",
       "      <td>Kim, EL; Tanford, S</td>\n",
       "      <td>Seeking reward or avoiding risk from restauran...</td>\n",
       "      <td>2019.0</td>\n",
       "      <td>10.1108/IJCHM-03-2018-0235</td>\n",
       "    </tr>\n",
       "    <tr>\n",
       "      <th>...</th>\n",
       "      <th>...</th>\n",
       "      <td>...</td>\n",
       "      <td>...</td>\n",
       "      <td>...</td>\n",
       "      <td>...</td>\n",
       "    </tr>\n",
       "    <tr>\n",
       "      <th rowspan=\"5\" valign=\"top\">JHMM</th>\n",
       "      <th>224</th>\n",
       "      <td>de Leaniz, PMG; Rodriguez, IRD</td>\n",
       "      <td>Exploring the Antecedents of Hotel Customer Lo...</td>\n",
       "      <td>2015.0</td>\n",
       "      <td>10.1080/19368623.2014.891961</td>\n",
       "    </tr>\n",
       "    <tr>\n",
       "      <th>225</th>\n",
       "      <td>Prayag, G; Khoo-Lattimore, C; Sitruk, J</td>\n",
       "      <td>Casual Dining on the French Riviera: Examining...</td>\n",
       "      <td>2015.0</td>\n",
       "      <td>10.1080/19368623.2014.859114</td>\n",
       "    </tr>\n",
       "    <tr>\n",
       "      <th>226</th>\n",
       "      <td>Morosan, C</td>\n",
       "      <td>The Influence of DMO Advertising on Specific D...</td>\n",
       "      <td>2015.0</td>\n",
       "      <td>10.1080/19368623.2014.891962</td>\n",
       "    </tr>\n",
       "    <tr>\n",
       "      <th>227</th>\n",
       "      <td>Memarzadeh, F; Chang, HJ</td>\n",
       "      <td>Online Consumer Complaints About Southeast Asi...</td>\n",
       "      <td>2015.0</td>\n",
       "      <td>10.1080/19368623.2014.893222</td>\n",
       "    </tr>\n",
       "    <tr>\n",
       "      <th>228</th>\n",
       "      <td>Cao, Y; Kim, K</td>\n",
       "      <td>How Do Customers Perceive Service Quality in D...</td>\n",
       "      <td>2015.0</td>\n",
       "      <td>10.1080/19368623.2014.903817</td>\n",
       "    </tr>\n",
       "  </tbody>\n",
       "</table>\n",
       "<p>3269 rows × 4 columns</p>\n",
       "</div>"
      ],
      "text/plain": [
       "                                                AU  \\\n",
       "IJCHM 0            Ineson, EM; Comic, D; Kalmic, L   \n",
       "      1                        Benitez-Aurioles, B   \n",
       "      2                   Hu, XB; Yang, Y; Park, S   \n",
       "      3        Ahmat, NHC; Arendt, SW; Russell, DW   \n",
       "      4                        Kim, EL; Tanford, S   \n",
       "...                                            ...   \n",
       "JHMM  224           de Leaniz, PMG; Rodriguez, IRD   \n",
       "      225  Prayag, G; Khoo-Lattimore, C; Sitruk, J   \n",
       "      226                               Morosan, C   \n",
       "      227                 Memarzadeh, F; Chang, HJ   \n",
       "      228                           Cao, Y; Kim, K   \n",
       "\n",
       "                                                          TI      PY  \\\n",
       "IJCHM 0    Towards a hierarchy of hotel guests' in-room n...  2019.0   \n",
       "      1    Barcelona's peer-to-peer tourist accommodation...  2019.0   \n",
       "      2    A meta-regression on the effect of online rati...  2019.0   \n",
       "      3    Examining work factors after Malaysia's minimu...  2019.0   \n",
       "      4    Seeking reward or avoiding risk from restauran...  2019.0   \n",
       "...                                                      ...     ...   \n",
       "JHMM  224  Exploring the Antecedents of Hotel Customer Lo...  2015.0   \n",
       "      225  Casual Dining on the French Riviera: Examining...  2015.0   \n",
       "      226  The Influence of DMO Advertising on Specific D...  2015.0   \n",
       "      227  Online Consumer Complaints About Southeast Asi...  2015.0   \n",
       "      228  How Do Customers Perceive Service Quality in D...  2015.0   \n",
       "\n",
       "                                     DI  \n",
       "IJCHM 0      10.1108/IJCHM-01-2019-0061  \n",
       "      1      10.1108/IJCHM-01-2019-0090  \n",
       "      2      10.1108/IJCHM-10-2018-0835  \n",
       "      3      10.1108/IJCHM-10-2018-0827  \n",
       "      4      10.1108/IJCHM-03-2018-0235  \n",
       "...                                 ...  \n",
       "JHMM  224  10.1080/19368623.2014.891961  \n",
       "      225  10.1080/19368623.2014.859114  \n",
       "      226  10.1080/19368623.2014.891962  \n",
       "      227  10.1080/19368623.2014.893222  \n",
       "      228  10.1080/19368623.2014.903817  \n",
       "\n",
       "[3269 rows x 4 columns]"
      ]
     },
     "execution_count": 7,
     "metadata": {},
     "output_type": "execute_result"
    }
   ],
   "source": [
    "df"
   ]
  },
  {
   "cell_type": "code",
   "execution_count": 8,
   "metadata": {},
   "outputs": [
    {
     "data": {
      "text/plain": [
       "AU     0\n",
       "TI     0\n",
       "PY    19\n",
       "DI     1\n",
       "dtype: int64"
      ]
     },
     "execution_count": 8,
     "metadata": {},
     "output_type": "execute_result"
    }
   ],
   "source": [
    "df.isnull().sum()"
   ]
  },
  {
   "cell_type": "code",
   "execution_count": 9,
   "metadata": {},
   "outputs": [
    {
     "data": {
      "text/html": [
       "<div>\n",
       "<style scoped>\n",
       "    .dataframe tbody tr th:only-of-type {\n",
       "        vertical-align: middle;\n",
       "    }\n",
       "\n",
       "    .dataframe tbody tr th {\n",
       "        vertical-align: top;\n",
       "    }\n",
       "\n",
       "    .dataframe thead th {\n",
       "        text-align: right;\n",
       "    }\n",
       "</style>\n",
       "<table border=\"1\" class=\"dataframe\">\n",
       "  <thead>\n",
       "    <tr style=\"text-align: right;\">\n",
       "      <th></th>\n",
       "      <th>AU</th>\n",
       "      <th>TI</th>\n",
       "      <th>PY</th>\n",
       "      <th>DI</th>\n",
       "    </tr>\n",
       "    <tr>\n",
       "      <th>level_0</th>\n",
       "      <th></th>\n",
       "      <th></th>\n",
       "      <th></th>\n",
       "      <th></th>\n",
       "    </tr>\n",
       "  </thead>\n",
       "  <tbody>\n",
       "    <tr>\n",
       "      <th>CHQ</th>\n",
       "      <td>356</td>\n",
       "      <td>356</td>\n",
       "      <td>353</td>\n",
       "      <td>356</td>\n",
       "    </tr>\n",
       "    <tr>\n",
       "      <th>IJCHM</th>\n",
       "      <td>1008</td>\n",
       "      <td>1008</td>\n",
       "      <td>1008</td>\n",
       "      <td>1007</td>\n",
       "    </tr>\n",
       "    <tr>\n",
       "      <th>IJHM</th>\n",
       "      <td>1340</td>\n",
       "      <td>1340</td>\n",
       "      <td>1340</td>\n",
       "      <td>1340</td>\n",
       "    </tr>\n",
       "    <tr>\n",
       "      <th>JHMM</th>\n",
       "      <td>229</td>\n",
       "      <td>229</td>\n",
       "      <td>217</td>\n",
       "      <td>229</td>\n",
       "    </tr>\n",
       "    <tr>\n",
       "      <th>JHTR</th>\n",
       "      <td>336</td>\n",
       "      <td>336</td>\n",
       "      <td>332</td>\n",
       "      <td>336</td>\n",
       "    </tr>\n",
       "  </tbody>\n",
       "</table>\n",
       "</div>"
      ],
      "text/plain": [
       "           AU    TI    PY    DI\n",
       "level_0                        \n",
       "CHQ       356   356   353   356\n",
       "IJCHM    1008  1008  1008  1007\n",
       "IJHM     1340  1340  1340  1340\n",
       "JHMM      229   229   217   229\n",
       "JHTR      336   336   332   336"
      ]
     },
     "execution_count": 9,
     "metadata": {},
     "output_type": "execute_result"
    }
   ],
   "source": [
    "df.reset_index(level=0).groupby(\"level_0\").count()"
   ]
  },
  {
   "cell_type": "code",
   "execution_count": 10,
   "metadata": {},
   "outputs": [],
   "source": [
    "df = df.reset_index(level=0)"
   ]
  },
  {
   "cell_type": "code",
   "execution_count": 11,
   "metadata": {},
   "outputs": [],
   "source": [
    "df.rename(columns={'level_0': 'JO'}, inplace=True)"
   ]
  },
  {
   "cell_type": "code",
   "execution_count": 12,
   "metadata": {},
   "outputs": [],
   "source": [
    "df.reset_index(drop=True, inplace=True)"
   ]
  },
  {
   "cell_type": "code",
   "execution_count": 13,
   "metadata": {},
   "outputs": [
    {
     "data": {
      "text/html": [
       "<div>\n",
       "<style scoped>\n",
       "    .dataframe tbody tr th:only-of-type {\n",
       "        vertical-align: middle;\n",
       "    }\n",
       "\n",
       "    .dataframe tbody tr th {\n",
       "        vertical-align: top;\n",
       "    }\n",
       "\n",
       "    .dataframe thead th {\n",
       "        text-align: right;\n",
       "    }\n",
       "</style>\n",
       "<table border=\"1\" class=\"dataframe\">\n",
       "  <thead>\n",
       "    <tr style=\"text-align: right;\">\n",
       "      <th></th>\n",
       "      <th>JO</th>\n",
       "      <th>AU</th>\n",
       "      <th>TI</th>\n",
       "      <th>PY</th>\n",
       "      <th>DI</th>\n",
       "    </tr>\n",
       "  </thead>\n",
       "  <tbody>\n",
       "    <tr>\n",
       "      <th>0</th>\n",
       "      <td>IJCHM</td>\n",
       "      <td>Ineson, EM; Comic, D; Kalmic, L</td>\n",
       "      <td>Towards a hierarchy of hotel guests' in-room n...</td>\n",
       "      <td>2019.0</td>\n",
       "      <td>10.1108/IJCHM-01-2019-0061</td>\n",
       "    </tr>\n",
       "    <tr>\n",
       "      <th>1</th>\n",
       "      <td>IJCHM</td>\n",
       "      <td>Benitez-Aurioles, B</td>\n",
       "      <td>Barcelona's peer-to-peer tourist accommodation...</td>\n",
       "      <td>2019.0</td>\n",
       "      <td>10.1108/IJCHM-01-2019-0090</td>\n",
       "    </tr>\n",
       "    <tr>\n",
       "      <th>2</th>\n",
       "      <td>IJCHM</td>\n",
       "      <td>Hu, XB; Yang, Y; Park, S</td>\n",
       "      <td>A meta-regression on the effect of online rati...</td>\n",
       "      <td>2019.0</td>\n",
       "      <td>10.1108/IJCHM-10-2018-0835</td>\n",
       "    </tr>\n",
       "    <tr>\n",
       "      <th>3</th>\n",
       "      <td>IJCHM</td>\n",
       "      <td>Ahmat, NHC; Arendt, SW; Russell, DW</td>\n",
       "      <td>Examining work factors after Malaysia's minimu...</td>\n",
       "      <td>2019.0</td>\n",
       "      <td>10.1108/IJCHM-10-2018-0827</td>\n",
       "    </tr>\n",
       "    <tr>\n",
       "      <th>4</th>\n",
       "      <td>IJCHM</td>\n",
       "      <td>Kim, EL; Tanford, S</td>\n",
       "      <td>Seeking reward or avoiding risk from restauran...</td>\n",
       "      <td>2019.0</td>\n",
       "      <td>10.1108/IJCHM-03-2018-0235</td>\n",
       "    </tr>\n",
       "    <tr>\n",
       "      <th>...</th>\n",
       "      <td>...</td>\n",
       "      <td>...</td>\n",
       "      <td>...</td>\n",
       "      <td>...</td>\n",
       "      <td>...</td>\n",
       "    </tr>\n",
       "    <tr>\n",
       "      <th>3264</th>\n",
       "      <td>JHMM</td>\n",
       "      <td>de Leaniz, PMG; Rodriguez, IRD</td>\n",
       "      <td>Exploring the Antecedents of Hotel Customer Lo...</td>\n",
       "      <td>2015.0</td>\n",
       "      <td>10.1080/19368623.2014.891961</td>\n",
       "    </tr>\n",
       "    <tr>\n",
       "      <th>3265</th>\n",
       "      <td>JHMM</td>\n",
       "      <td>Prayag, G; Khoo-Lattimore, C; Sitruk, J</td>\n",
       "      <td>Casual Dining on the French Riviera: Examining...</td>\n",
       "      <td>2015.0</td>\n",
       "      <td>10.1080/19368623.2014.859114</td>\n",
       "    </tr>\n",
       "    <tr>\n",
       "      <th>3266</th>\n",
       "      <td>JHMM</td>\n",
       "      <td>Morosan, C</td>\n",
       "      <td>The Influence of DMO Advertising on Specific D...</td>\n",
       "      <td>2015.0</td>\n",
       "      <td>10.1080/19368623.2014.891962</td>\n",
       "    </tr>\n",
       "    <tr>\n",
       "      <th>3267</th>\n",
       "      <td>JHMM</td>\n",
       "      <td>Memarzadeh, F; Chang, HJ</td>\n",
       "      <td>Online Consumer Complaints About Southeast Asi...</td>\n",
       "      <td>2015.0</td>\n",
       "      <td>10.1080/19368623.2014.893222</td>\n",
       "    </tr>\n",
       "    <tr>\n",
       "      <th>3268</th>\n",
       "      <td>JHMM</td>\n",
       "      <td>Cao, Y; Kim, K</td>\n",
       "      <td>How Do Customers Perceive Service Quality in D...</td>\n",
       "      <td>2015.0</td>\n",
       "      <td>10.1080/19368623.2014.903817</td>\n",
       "    </tr>\n",
       "  </tbody>\n",
       "</table>\n",
       "<p>3269 rows × 5 columns</p>\n",
       "</div>"
      ],
      "text/plain": [
       "         JO                                       AU  \\\n",
       "0     IJCHM          Ineson, EM; Comic, D; Kalmic, L   \n",
       "1     IJCHM                      Benitez-Aurioles, B   \n",
       "2     IJCHM                 Hu, XB; Yang, Y; Park, S   \n",
       "3     IJCHM      Ahmat, NHC; Arendt, SW; Russell, DW   \n",
       "4     IJCHM                      Kim, EL; Tanford, S   \n",
       "...     ...                                      ...   \n",
       "3264   JHMM           de Leaniz, PMG; Rodriguez, IRD   \n",
       "3265   JHMM  Prayag, G; Khoo-Lattimore, C; Sitruk, J   \n",
       "3266   JHMM                               Morosan, C   \n",
       "3267   JHMM                 Memarzadeh, F; Chang, HJ   \n",
       "3268   JHMM                           Cao, Y; Kim, K   \n",
       "\n",
       "                                                     TI      PY  \\\n",
       "0     Towards a hierarchy of hotel guests' in-room n...  2019.0   \n",
       "1     Barcelona's peer-to-peer tourist accommodation...  2019.0   \n",
       "2     A meta-regression on the effect of online rati...  2019.0   \n",
       "3     Examining work factors after Malaysia's minimu...  2019.0   \n",
       "4     Seeking reward or avoiding risk from restauran...  2019.0   \n",
       "...                                                 ...     ...   \n",
       "3264  Exploring the Antecedents of Hotel Customer Lo...  2015.0   \n",
       "3265  Casual Dining on the French Riviera: Examining...  2015.0   \n",
       "3266  The Influence of DMO Advertising on Specific D...  2015.0   \n",
       "3267  Online Consumer Complaints About Southeast Asi...  2015.0   \n",
       "3268  How Do Customers Perceive Service Quality in D...  2015.0   \n",
       "\n",
       "                                DI  \n",
       "0       10.1108/IJCHM-01-2019-0061  \n",
       "1       10.1108/IJCHM-01-2019-0090  \n",
       "2       10.1108/IJCHM-10-2018-0835  \n",
       "3       10.1108/IJCHM-10-2018-0827  \n",
       "4       10.1108/IJCHM-03-2018-0235  \n",
       "...                            ...  \n",
       "3264  10.1080/19368623.2014.891961  \n",
       "3265  10.1080/19368623.2014.859114  \n",
       "3266  10.1080/19368623.2014.891962  \n",
       "3267  10.1080/19368623.2014.893222  \n",
       "3268  10.1080/19368623.2014.903817  \n",
       "\n",
       "[3269 rows x 5 columns]"
      ]
     },
     "execution_count": 13,
     "metadata": {},
     "output_type": "execute_result"
    }
   ],
   "source": [
    "df"
   ]
  },
  {
   "cell_type": "code",
   "execution_count": 14,
   "metadata": {},
   "outputs": [
    {
     "data": {
      "text/plain": [
       "JO                                                 IJHM\n",
       "AU                                   Yang, FX; Lau, VMC\n",
       "TI    Evil customers, an angel boss and coopetitive ...\n",
       "PY                                                 2019\n",
       "DI                           10.1016/j.ijhm.2019.04.004\n",
       "Name: 1008, dtype: object"
      ]
     },
     "execution_count": 14,
     "metadata": {},
     "output_type": "execute_result"
    }
   ],
   "source": [
    "example = df[df[\"JO\"]==\"IJHM\"].iloc[0] \n",
    "example"
   ]
  },
  {
   "cell_type": "code",
   "execution_count": 15,
   "metadata": {},
   "outputs": [],
   "source": [
    "driver = webdriver.Chrome(\"chromedriver.exe\")"
   ]
  },
  {
   "cell_type": "code",
   "execution_count": 16,
   "metadata": {},
   "outputs": [],
   "source": [
    "driver.get(\"https://www.sciencedirect.com/science/article/pii/S0278431919300258\")"
   ]
  },
  {
   "cell_type": "code",
   "execution_count": 17,
   "metadata": {},
   "outputs": [],
   "source": [
    "driver.execute_script(\"arguments[0].click();\", WebDriverWait(driver, 20).until(ec.element_to_be_clickable((By.XPATH, '//*[@id=\"gh-main-cnt\"]/div[1]/div/nav[2]/ul/li[1]/a'))))"
   ]
  },
  {
   "cell_type": "code",
   "execution_count": 18,
   "metadata": {},
   "outputs": [],
   "source": [
    "driver.find_element_by_xpath('//*[@id=\"search-input\"]').send_keys(example[\"DI\"])       "
   ]
  },
  {
   "cell_type": "code",
   "execution_count": 19,
   "metadata": {},
   "outputs": [],
   "source": [
    "driver.find_element_by_xpath('//*[@id=\"search-input\"]').send_keys(Keys.RETURN)       "
   ]
  },
  {
   "cell_type": "code",
   "execution_count": 20,
   "metadata": {},
   "outputs": [
    {
     "data": {
      "text/plain": [
       "'https://www.sciencedirect.com/science/article/pii/S0278431918309782'"
      ]
     },
     "execution_count": 20,
     "metadata": {},
     "output_type": "execute_result"
    }
   ],
   "source": [
    "first_link = driver.find_element_by_xpath('//*[@id=\"srp-results-list\"]/ol/li[1]/div/div[2]/h2/span/a').get_attribute(\"href\")\n",
    "first_link"
   ]
  },
  {
   "cell_type": "code",
   "execution_count": 21,
   "metadata": {},
   "outputs": [],
   "source": [
    "driver.get(first_link)"
   ]
  },
  {
   "cell_type": "code",
   "execution_count": 22,
   "metadata": {},
   "outputs": [],
   "source": [
    "secs =driver.find_elements_by_xpath('//div[@class=\"Body u-font-serif\"]/div/section')\n",
    "\n",
    "doc = \"\" \n",
    "\n",
    "i=1\n",
    "for sec in secs:\n",
    "    doc += f\"***\\nSECTION 00{str(i)}\\n***\"\n",
    "    doc += \"*****\\n*****\"\n",
    "    doc += sec.text\n",
    "    i+=1"
   ]
  },
  {
   "cell_type": "code",
   "execution_count": null,
   "metadata": {},
   "outputs": [],
   "source": [
    "doc"
   ]
  },
  {
   "cell_type": "code",
   "execution_count": 24,
   "metadata": {},
   "outputs": [],
   "source": [
    "filename=\"example.txt\"\n",
    "with io.open(f\"Data/example/{filename}\", \"w\", encoding=\"utf-8\") as text_file:\n",
    "    text_file.write(doc)"
   ]
  },
  {
   "cell_type": "code",
   "execution_count": null,
   "metadata": {},
   "outputs": [],
   "source": []
  },
  {
   "cell_type": "code",
   "execution_count": 104,
   "metadata": {},
   "outputs": [
    {
     "data": {
      "text/html": [
       "<div>\n",
       "<style scoped>\n",
       "    .dataframe tbody tr th:only-of-type {\n",
       "        vertical-align: middle;\n",
       "    }\n",
       "\n",
       "    .dataframe tbody tr th {\n",
       "        vertical-align: top;\n",
       "    }\n",
       "\n",
       "    .dataframe thead th {\n",
       "        text-align: right;\n",
       "    }\n",
       "</style>\n",
       "<table border=\"1\" class=\"dataframe\">\n",
       "  <thead>\n",
       "    <tr style=\"text-align: right;\">\n",
       "      <th></th>\n",
       "      <th>JO</th>\n",
       "      <th>AU</th>\n",
       "      <th>TI</th>\n",
       "      <th>PY</th>\n",
       "      <th>DI</th>\n",
       "      <th>urls</th>\n",
       "      <th>filename</th>\n",
       "    </tr>\n",
       "  </thead>\n",
       "  <tbody>\n",
       "    <tr>\n",
       "      <th>0</th>\n",
       "      <td>IJCHM</td>\n",
       "      <td>Ineson, EM; Comic, D; Kalmic, L</td>\n",
       "      <td>Towards a hierarchy of hotel guests' in-room n...</td>\n",
       "      <td>2019.0</td>\n",
       "      <td>10.1108/IJCHM-01-2019-0061</td>\n",
       "      <td>https://www.emerald.com/insight/content/doi/10...</td>\n",
       "      <td>IJCHM_0.txt</td>\n",
       "    </tr>\n",
       "    <tr>\n",
       "      <th>1</th>\n",
       "      <td>IJCHM</td>\n",
       "      <td>Benitez-Aurioles, B</td>\n",
       "      <td>Barcelona's peer-to-peer tourist accommodation...</td>\n",
       "      <td>2019.0</td>\n",
       "      <td>10.1108/IJCHM-01-2019-0090</td>\n",
       "      <td>https://www.emerald.com/insight/content/doi/10...</td>\n",
       "      <td>IJCHM_1.txt</td>\n",
       "    </tr>\n",
       "    <tr>\n",
       "      <th>2</th>\n",
       "      <td>IJCHM</td>\n",
       "      <td>Hu, XB; Yang, Y; Park, S</td>\n",
       "      <td>A meta-regression on the effect of online rati...</td>\n",
       "      <td>2019.0</td>\n",
       "      <td>10.1108/IJCHM-10-2018-0835</td>\n",
       "      <td>https://www.emerald.com/insight/content/doi/10...</td>\n",
       "      <td>IJCHM_2.txt</td>\n",
       "    </tr>\n",
       "    <tr>\n",
       "      <th>3</th>\n",
       "      <td>IJCHM</td>\n",
       "      <td>Ahmat, NHC; Arendt, SW; Russell, DW</td>\n",
       "      <td>Examining work factors after Malaysia's minimu...</td>\n",
       "      <td>2019.0</td>\n",
       "      <td>10.1108/IJCHM-10-2018-0827</td>\n",
       "      <td>https://www.emerald.com/insight/content/doi/10...</td>\n",
       "      <td>IJCHM_3.txt</td>\n",
       "    </tr>\n",
       "    <tr>\n",
       "      <th>4</th>\n",
       "      <td>IJCHM</td>\n",
       "      <td>Kim, EL; Tanford, S</td>\n",
       "      <td>Seeking reward or avoiding risk from restauran...</td>\n",
       "      <td>2019.0</td>\n",
       "      <td>10.1108/IJCHM-03-2018-0235</td>\n",
       "      <td>https://www.emerald.com/insight/content/doi/10...</td>\n",
       "      <td>IJCHM_4.txt</td>\n",
       "    </tr>\n",
       "    <tr>\n",
       "      <th>...</th>\n",
       "      <td>...</td>\n",
       "      <td>...</td>\n",
       "      <td>...</td>\n",
       "      <td>...</td>\n",
       "      <td>...</td>\n",
       "      <td>...</td>\n",
       "      <td>...</td>\n",
       "    </tr>\n",
       "    <tr>\n",
       "      <th>3264</th>\n",
       "      <td>JHTR</td>\n",
       "      <td>Kim, W; Ok, C</td>\n",
       "      <td>CUSTOMER ORIENTATION OF SERVICE EMPLOYEES AND ...</td>\n",
       "      <td>2010.0</td>\n",
       "      <td>10.1177/1096348009344234</td>\n",
       "      <td>NaN</td>\n",
       "      <td>NaN</td>\n",
       "    </tr>\n",
       "    <tr>\n",
       "      <th>3265</th>\n",
       "      <td>JHTR</td>\n",
       "      <td>Gazzoli, G; Hancer, M; Park, Y</td>\n",
       "      <td>THE ROLE AND EFFECT OF JOB SATISFACTION AND EM...</td>\n",
       "      <td>2010.0</td>\n",
       "      <td>10.1177/1096348009344235</td>\n",
       "      <td>NaN</td>\n",
       "      <td>NaN</td>\n",
       "    </tr>\n",
       "    <tr>\n",
       "      <th>3266</th>\n",
       "      <td>JHTR</td>\n",
       "      <td>Young, CA; Corsun, DL</td>\n",
       "      <td>BURNED! THE IMPACT OF WORK ASPECTS, INJURY, AN...</td>\n",
       "      <td>2010.0</td>\n",
       "      <td>10.1177/1096348009349816</td>\n",
       "      <td>NaN</td>\n",
       "      <td>NaN</td>\n",
       "    </tr>\n",
       "    <tr>\n",
       "      <th>3267</th>\n",
       "      <td>JHTR</td>\n",
       "      <td>Kim, DY; Wen, L; Doh, K</td>\n",
       "      <td>DOES CULTURAL DIFFERENCE AFFECT CUSTOMER'S RES...</td>\n",
       "      <td>2010.0</td>\n",
       "      <td>10.1177/1096348009349817</td>\n",
       "      <td>NaN</td>\n",
       "      <td>NaN</td>\n",
       "    </tr>\n",
       "    <tr>\n",
       "      <th>3268</th>\n",
       "      <td>JHTR</td>\n",
       "      <td>Pike, S</td>\n",
       "      <td>DESTINATION BRANDING CASE STUDY: TRACKING BRAN...</td>\n",
       "      <td>2010.0</td>\n",
       "      <td>10.1177/1096348009349820</td>\n",
       "      <td>NaN</td>\n",
       "      <td>NaN</td>\n",
       "    </tr>\n",
       "  </tbody>\n",
       "</table>\n",
       "<p>3269 rows × 7 columns</p>\n",
       "</div>"
      ],
      "text/plain": [
       "         JO                                   AU  \\\n",
       "0     IJCHM      Ineson, EM; Comic, D; Kalmic, L   \n",
       "1     IJCHM                  Benitez-Aurioles, B   \n",
       "2     IJCHM             Hu, XB; Yang, Y; Park, S   \n",
       "3     IJCHM  Ahmat, NHC; Arendt, SW; Russell, DW   \n",
       "4     IJCHM                  Kim, EL; Tanford, S   \n",
       "...     ...                                  ...   \n",
       "3264   JHTR                        Kim, W; Ok, C   \n",
       "3265   JHTR       Gazzoli, G; Hancer, M; Park, Y   \n",
       "3266   JHTR                Young, CA; Corsun, DL   \n",
       "3267   JHTR              Kim, DY; Wen, L; Doh, K   \n",
       "3268   JHTR                              Pike, S   \n",
       "\n",
       "                                                     TI      PY  \\\n",
       "0     Towards a hierarchy of hotel guests' in-room n...  2019.0   \n",
       "1     Barcelona's peer-to-peer tourist accommodation...  2019.0   \n",
       "2     A meta-regression on the effect of online rati...  2019.0   \n",
       "3     Examining work factors after Malaysia's minimu...  2019.0   \n",
       "4     Seeking reward or avoiding risk from restauran...  2019.0   \n",
       "...                                                 ...     ...   \n",
       "3264  CUSTOMER ORIENTATION OF SERVICE EMPLOYEES AND ...  2010.0   \n",
       "3265  THE ROLE AND EFFECT OF JOB SATISFACTION AND EM...  2010.0   \n",
       "3266  BURNED! THE IMPACT OF WORK ASPECTS, INJURY, AN...  2010.0   \n",
       "3267  DOES CULTURAL DIFFERENCE AFFECT CUSTOMER'S RES...  2010.0   \n",
       "3268  DESTINATION BRANDING CASE STUDY: TRACKING BRAN...  2010.0   \n",
       "\n",
       "                              DI  \\\n",
       "0     10.1108/IJCHM-01-2019-0061   \n",
       "1     10.1108/IJCHM-01-2019-0090   \n",
       "2     10.1108/IJCHM-10-2018-0835   \n",
       "3     10.1108/IJCHM-10-2018-0827   \n",
       "4     10.1108/IJCHM-03-2018-0235   \n",
       "...                          ...   \n",
       "3264    10.1177/1096348009344234   \n",
       "3265    10.1177/1096348009344235   \n",
       "3266    10.1177/1096348009349816   \n",
       "3267    10.1177/1096348009349817   \n",
       "3268    10.1177/1096348009349820   \n",
       "\n",
       "                                                   urls     filename  \n",
       "0     https://www.emerald.com/insight/content/doi/10...  IJCHM_0.txt  \n",
       "1     https://www.emerald.com/insight/content/doi/10...  IJCHM_1.txt  \n",
       "2     https://www.emerald.com/insight/content/doi/10...  IJCHM_2.txt  \n",
       "3     https://www.emerald.com/insight/content/doi/10...  IJCHM_3.txt  \n",
       "4     https://www.emerald.com/insight/content/doi/10...  IJCHM_4.txt  \n",
       "...                                                 ...          ...  \n",
       "3264                                                NaN          NaN  \n",
       "3265                                                NaN          NaN  \n",
       "3266                                                NaN          NaN  \n",
       "3267                                                NaN          NaN  \n",
       "3268                                                NaN          NaN  \n",
       "\n",
       "[3269 rows x 7 columns]"
      ]
     },
     "execution_count": 104,
     "metadata": {},
     "output_type": "execute_result"
    }
   ],
   "source": [
    "df_all = pd.read_excel(\"Data/paper_final_30Jan.xlsx\", usecols=\"B:K\")\n",
    "df_all"
   ]
  },
  {
   "cell_type": "code",
   "execution_count": 105,
   "metadata": {},
   "outputs": [
    {
     "data": {
      "text/plain": [
       "114"
      ]
     },
     "execution_count": 105,
     "metadata": {},
     "output_type": "execute_result"
    }
   ],
   "source": [
    "df.filename.isnull().sum()"
   ]
  },
  {
   "cell_type": "code",
   "execution_count": null,
   "metadata": {},
   "outputs": [],
   "source": []
  }
 ],
 "metadata": {
  "kernelspec": {
   "display_name": "Python 3",
   "language": "python",
   "name": "python3"
  },
  "language_info": {
   "codemirror_mode": {
    "name": "ipython",
    "version": 3
   },
   "file_extension": ".py",
   "mimetype": "text/x-python",
   "name": "python",
   "nbconvert_exporter": "python",
   "pygments_lexer": "ipython3",
   "version": "3.8.3"
  }
 },
 "nbformat": 4,
 "nbformat_minor": 4
}
